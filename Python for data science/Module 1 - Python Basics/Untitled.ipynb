{
 "cells": [
  {
   "cell_type": "code",
   "execution_count": 1,
   "id": "7734db19",
   "metadata": {},
   "outputs": [
    {
     "name": "stdout",
     "output_type": "stream",
     "text": [
      "3.5\n"
     ]
    }
   ],
   "source": [
    "print(7/2)"
   ]
  },
  {
   "cell_type": "code",
   "execution_count": 7,
   "id": "4cf02df6",
   "metadata": {},
   "outputs": [
    {
     "name": "stdout",
     "output_type": "stream",
     "text": [
      "donner la valeur de x 600\n",
      "600 contient 10 heures et  0 minutes\n"
     ]
    }
   ],
   "source": [
    "x=int(input(\"donner la valeur de x \"))\n",
    "hours=x//60\n",
    "mins=x%60\n",
    "print(x,\"contient\",hours,\"heures et \",mins,\"minutes\")\n"
   ]
  },
  {
   "cell_type": "code",
   "execution_count": 14,
   "id": "18e62dce",
   "metadata": {},
   "outputs": [
    {
     "name": "stdout",
     "output_type": "stream",
     "text": [
      "600 contient :\n",
      "\t - 10 heures.\n",
      "\t - 0 minutes.\n"
     ]
    }
   ],
   "source": [
    "print(x,\"contient :\\n\\t -\",hours,\"heures.\\n\\t -\",mins,\"minutes.\")"
   ]
  },
  {
   "cell_type": "code",
   "execution_count": 16,
   "id": "df0b5661",
   "metadata": {},
   "outputs": [
    {
     "name": "stdout",
     "output_type": "stream",
     "text": [
      "donner la valeur de x : 300\n",
      "donner la valeur de y : 300\n",
      "-  300 +  300 = 600 \n",
      "-  300 -  300 = 0 \n",
      "-  300 /  300 = 1.0 \n",
      "-  300 *  300 = 90000\n"
     ]
    }
   ],
   "source": [
    "x=int(input(\"donner la valeur de x : \"))\n",
    "y=int(input(\"donner la valeur de y : \"))\n",
    "addition=x+y\n",
    "soustraction = x-y\n",
    "multiplication=x*y\n",
    "devision=x/y\n",
    "print(\"- \",x,\"+ \",y,\"=\",addition,\"\\n- \",x,\"- \",y,\"=\",soustraction,\"\\n- \",x,\"/ \",y,\"=\",devision,\"\\n- \",x,\"* \",y,\"=\",multiplication)\n"
   ]
  },
  {
   "cell_type": "code",
   "execution_count": null,
   "id": "5f36f98e",
   "metadata": {},
   "outputs": [],
   "source": []
  }
 ],
 "metadata": {
  "kernelspec": {
   "display_name": "Python 3 (ipykernel)",
   "language": "python",
   "name": "python3"
  },
  "language_info": {
   "codemirror_mode": {
    "name": "ipython",
    "version": 3
   },
   "file_extension": ".py",
   "mimetype": "text/x-python",
   "name": "python",
   "nbconvert_exporter": "python",
   "pygments_lexer": "ipython3",
   "version": "3.9.7"
  }
 },
 "nbformat": 4,
 "nbformat_minor": 5
}
