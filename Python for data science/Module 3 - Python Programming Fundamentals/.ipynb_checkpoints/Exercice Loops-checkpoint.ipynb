{
 "cells": [
  {
   "cell_type": "markdown",
   "id": "99bd5019",
   "metadata": {},
   "source": [
    "# Exercise 1 Write a program in Python to reverse a word."
   ]
  },
  {
   "cell_type": "code",
   "execution_count": 4,
   "id": "561257ac",
   "metadata": {},
   "outputs": [
    {
     "name": "stdout",
     "output_type": "stream",
     "text": [
      "Input a word to reverse: hamdi\n",
      "idmah\n"
     ]
    }
   ],
   "source": [
    "normalWord = input(\"Input a word to reverse: \")\n",
    "reversedWord=\"\"\n",
    "for i in range(len(normalWord)-1,-1,-1):\n",
    "    reversedWord+=normalWord[i]\n",
    "  \n",
    "print(reversedWord)\n"
   ]
  },
  {
   "cell_type": "code",
   "execution_count": 9,
   "id": "4420ae56",
   "metadata": {},
   "outputs": [
    {
     "name": "stdout",
     "output_type": "stream",
     "text": [
      "Input a word to reverse: hamdi\n",
      "idmah\n"
     ]
    }
   ],
   "source": [
    "normalWord = input(\"Input a word to reverse: \")\n",
    "reversedWord=\"\"\n",
    "for i in range(len(normalWord)):\n",
    "    reversedWord+=normalWord[len(normalWord)-1-i]\n",
    "  \n",
    "print(reversedWord)"
   ]
  },
  {
   "cell_type": "markdown",
   "id": "72cd3720",
   "metadata": {},
   "source": [
    "# Exercice 2 : Write a Python program to reverse a number"
   ]
  },
  {
   "cell_type": "code",
   "execution_count": 14,
   "id": "2341c479",
   "metadata": {},
   "outputs": [
    {
     "name": "stdout",
     "output_type": "stream",
     "text": [
      "Enter number: 1234\n",
      "4321\n"
     ]
    }
   ],
   "source": [
    "n = int(input(\"Enter number: \"))\n",
    "rev = 0\n",
    "\n",
    "while(n != 0):\n",
    "   rem = n % 10\n",
    "   rev = rev * 10 + rem\n",
    "   n = n // 10\n",
    "\n",
    "print(rev)"
   ]
  },
  {
   "cell_type": "code",
   "execution_count": 15,
   "id": "84cfc4c7",
   "metadata": {},
   "outputs": [
    {
     "name": "stdout",
     "output_type": "stream",
     "text": [
      "Input a word to reverse: 1234\n",
      "43214\n"
     ]
    }
   ],
   "source": [
    "normalNumber = input(\"Input a word to reverse: \")\n",
    "reversedNumber=\"\"\n",
    "for i in range(len(normalWord)):\n",
    "    reversedNumber+=normalNumber[len(normalNumber)-1-i]\n",
    "  \n",
    "print(int(reversedNumber))"
   ]
  },
  {
   "cell_type": "markdown",
   "id": "e8eec086",
   "metadata": {},
   "source": [
    "# Exercise 3 : Write a program to display the first 7 multiples of 7."
   ]
  },
  {
   "cell_type": "code",
   "execution_count": 17,
   "id": "0c722035",
   "metadata": {},
   "outputs": [
    {
     "name": "stdout",
     "output_type": "stream",
     "text": [
      "0 7 14 21 28 35 42 49 "
     ]
    }
   ],
   "source": [
    "count = 0\n",
    "for i in range(200):\n",
    "    if i%7 == 0:\n",
    "        print(i,end=\" \")\n",
    "        count = count+1\n",
    "        if count == 8:\n",
    "            break\n"
   ]
  },
  {
   "cell_type": "markdown",
   "id": "3bc71214",
   "metadata": {},
   "source": [
    "# Exercise 4: Write a program that appends the square of each number to a new list."
   ]
  },
  {
   "cell_type": "code",
   "execution_count": 20,
   "id": "e551d237",
   "metadata": {},
   "outputs": [
    {
     "name": "stdout",
     "output_type": "stream",
     "text": [
      "Result:  [4, 9, 16, 25, 36, 49, 64]\n"
     ]
    }
   ],
   "source": [
    "normalList = [2,3,4,5,6,7,8]\n",
    "squareList = []\n",
    "for i in range(len(normalList)):\n",
    "    squareList.append(normalList[i]**2)\n",
    "print(\"Result: \",squareList)\n"
   ]
  },
  {
   "cell_type": "markdown",
   "id": "7cc3a477",
   "metadata": {},
   "source": [
    "# Exercise 10: Write a program to fetch only even values from a dictionary."
   ]
  },
  {
   "cell_type": "code",
   "execution_count": 21,
   "id": "8f884c74",
   "metadata": {},
   "outputs": [
    {
     "name": "stdout",
     "output_type": "stream",
     "text": [
      "10 20 22 "
     ]
    }
   ],
   "source": [
    "dic = {'val1':10, 'val2':20, 'val3':23, 'val4':22 }\n",
    "for i in dic.values():\n",
    "    if i % 2 ==0:\n",
    "        print(i,end=\" \")\n",
    "    else:\n",
    "        pass"
   ]
  },
  {
   "cell_type": "code",
   "execution_count": null,
   "id": "13825796",
   "metadata": {},
   "outputs": [],
   "source": []
  }
 ],
 "metadata": {
  "kernelspec": {
   "display_name": "Python 3 (ipykernel)",
   "language": "python",
   "name": "python3"
  },
  "language_info": {
   "codemirror_mode": {
    "name": "ipython",
    "version": 3
   },
   "file_extension": ".py",
   "mimetype": "text/x-python",
   "name": "python",
   "nbconvert_exporter": "python",
   "pygments_lexer": "ipython3",
   "version": "3.9.7"
  }
 },
 "nbformat": 4,
 "nbformat_minor": 5
}
