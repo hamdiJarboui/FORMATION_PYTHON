{
 "cells": [
  {
   "cell_type": "code",
   "execution_count": null,
   "id": "6dd17bd7",
   "metadata": {},
   "outputs": [],
   "source": [
    "age=14\n"
   ]
  },
  {
   "cell_type": "code",
   "execution_count": 1,
   "id": "0153a6c9",
   "metadata": {},
   "outputs": [
    {
     "data": {
      "text/plain": [
       "14"
      ]
     },
     "execution_count": 1,
     "metadata": {},
     "output_type": "execute_result"
    }
   ],
   "source": [
    "int(14)"
   ]
  },
  {
   "cell_type": "code",
   "execution_count": 2,
   "id": "85deaf82",
   "metadata": {},
   "outputs": [
    {
     "data": {
      "text/plain": [
       "'14'"
      ]
     },
     "execution_count": 2,
     "metadata": {},
     "output_type": "execute_result"
    }
   ],
   "source": [
    "str(14)"
   ]
  },
  {
   "cell_type": "code",
   "execution_count": 3,
   "id": "7077f92b",
   "metadata": {},
   "outputs": [
    {
     "data": {
      "text/plain": [
       "14.0"
      ]
     },
     "execution_count": 3,
     "metadata": {},
     "output_type": "execute_result"
    }
   ],
   "source": [
    "float(14)"
   ]
  },
  {
   "cell_type": "code",
   "execution_count": 4,
   "id": "37bc3970",
   "metadata": {},
   "outputs": [
    {
     "data": {
      "text/plain": [
       "int"
      ]
     },
     "execution_count": 4,
     "metadata": {},
     "output_type": "execute_result"
    }
   ],
   "source": [
    "type(14)"
   ]
  },
  {
   "cell_type": "code",
   "execution_count": 5,
   "id": "7b1ee7a9",
   "metadata": {},
   "outputs": [
    {
     "data": {
      "text/plain": [
       "float"
      ]
     },
     "execution_count": 5,
     "metadata": {},
     "output_type": "execute_result"
    }
   ],
   "source": [
    "type(14.0)"
   ]
  },
  {
   "cell_type": "code",
   "execution_count": null,
   "id": "cf387cba",
   "metadata": {},
   "outputs": [],
   "source": [
    "type('14')"
   ]
  },
  {
   "cell_type": "code",
   "execution_count": null,
   "id": "02993a8e",
   "metadata": {},
   "outputs": [],
   "source": [
    "int(input(\"number\"))"
   ]
  },
  {
   "cell_type": "code",
   "execution_count": null,
   "id": "aa14e9ee",
   "metadata": {},
   "outputs": [],
   "source": [
    "str(input(\"number\"))"
   ]
  },
  {
   "cell_type": "code",
   "execution_count": 5,
   "id": "6305aa6c",
   "metadata": {},
   "outputs": [
    {
     "name": "stdout",
     "output_type": "stream",
     "text": [
      "number2\n"
     ]
    },
    {
     "data": {
      "text/plain": [
       "2.0"
      ]
     },
     "execution_count": 5,
     "metadata": {},
     "output_type": "execute_result"
    }
   ],
   "source": [
    "float(input(\"number\"))"
   ]
  },
  {
   "cell_type": "code",
   "execution_count": 7,
   "id": "e744c4e9",
   "metadata": {},
   "outputs": [
    {
     "name": "stdout",
     "output_type": "stream",
     "text": [
      "number1\n",
      "good\n"
     ]
    }
   ],
   "source": [
    "x=int(input(\"number\"))\n",
    "if(x>=1):\n",
    "   print(\"good\")\n",
    "else:\n",
    "   print(\"retare\")"
   ]
  },
  {
   "cell_type": "code",
   "execution_count": null,
   "id": "2fa1e526",
   "metadata": {},
   "outputs": [],
   "source": [
    "x=int(input(\"number\"))\n"
   ]
  },
  {
   "cell_type": "code",
   "execution_count": 15,
   "id": "413c57fb",
   "metadata": {},
   "outputs": [
    {
     "name": "stdout",
     "output_type": "stream",
     "text": [
      "salem\n",
      "0\n",
      "salem\n",
      "1\n",
      "salem\n",
      "2\n",
      "salem\n",
      "3\n",
      "salem\n",
      "4\n",
      "salem\n",
      "5\n",
      "salem\n",
      "6\n",
      "salem\n",
      "7\n",
      "salem\n",
      "8\n",
      "salem\n",
      "9\n"
     ]
    }
   ],
   "source": [
    "for i in range(10):\n",
    "    print(\"salem\")\n",
    "    print(i)"
   ]
  },
  {
   "cell_type": "code",
   "execution_count": 20,
   "id": "d9fcb67e",
   "metadata": {},
   "outputs": [
    {
     "name": "stdout",
     "output_type": "stream",
     "text": [
      "pair\n",
      "0\n",
      "impaire\n",
      "1\n",
      "pair\n",
      "2\n",
      "impaire\n",
      "3\n",
      "pair\n",
      "4\n",
      "impaire\n",
      "5\n",
      "pair\n",
      "6\n",
      "impaire\n",
      "7\n",
      "pair\n",
      "8\n",
      "impaire\n",
      "9\n"
     ]
    }
   ],
   "source": [
    "\n",
    "for i in range (10):\n",
    "   if(i%2==0):\n",
    "      print(\"pair\")\n",
    "      print(i)\n",
    "   else:\n",
    "      print(\"impaire\")\n",
    "      print(i)"
   ]
  },
  {
   "cell_type": "code",
   "execution_count": null,
   "id": "3fae733f",
   "metadata": {},
   "outputs": [],
   "source": []
  },
  {
   "cell_type": "code",
   "execution_count": null,
   "id": "2544cf6f",
   "metadata": {},
   "outputs": [],
   "source": []
  }
 ],
 "metadata": {
  "kernelspec": {
   "display_name": "Python 3 (ipykernel)",
   "language": "python",
   "name": "python3"
  },
  "language_info": {
   "codemirror_mode": {
    "name": "ipython",
    "version": 3
   },
   "file_extension": ".py",
   "mimetype": "text/x-python",
   "name": "python",
   "nbconvert_exporter": "python",
   "pygments_lexer": "ipython3",
   "version": "3.9.12"
  }
 },
 "nbformat": 4,
 "nbformat_minor": 5
}
