{
 "cells": [
  {
   "cell_type": "code",
   "execution_count": 11,
   "id": "a814ba48",
   "metadata": {},
   "outputs": [],
   "source": [
    "def addition(x,y):\n",
    "    z=x+y\n",
    "    return z\n",
    "    "
   ]
  },
  {
   "cell_type": "code",
   "execution_count": 12,
   "id": "1fec34e4",
   "metadata": {},
   "outputs": [
    {
     "name": "stdout",
     "output_type": "stream",
     "text": [
      "17\n"
     ]
    }
   ],
   "source": [
    "z=addition(13,4)\n",
    "print(z)"
   ]
  },
  {
   "cell_type": "code",
   "execution_count": 13,
   "id": "efc33d34",
   "metadata": {},
   "outputs": [],
   "source": [
    "def kam (x,y):\n",
    "    z=x-y\n",
    "    return z"
   ]
  },
  {
   "cell_type": "code",
   "execution_count": 14,
   "id": "c5151cb9",
   "metadata": {},
   "outputs": [
    {
     "name": "stdout",
     "output_type": "stream",
     "text": [
      "11\n"
     ]
    }
   ],
   "source": [
    "z=kam(14,3)\n",
    "print (z)"
   ]
  },
  {
   "cell_type": "code",
   "execution_count": 25,
   "id": "527fa11d",
   "metadata": {},
   "outputs": [],
   "source": [
    "def puissance(x,y):\n",
    "    z=x**y\n",
    "    return z\n",
    "def addition(x,y):\n",
    "    z=x+y\n",
    "    return z\n",
    "def soustraction(x,y):\n",
    "    z=x-y\n",
    "    return z\n",
    "def multiplication(x,y):\n",
    "    z=x*y\n",
    "    return z\n",
    "def devion(x,y):\n",
    "    z=x/y\n",
    "    return z\n",
    "def menu():\n",
    "    print(\"enter votre choix :\\n\n",
    "            \\t1- Addition\\n\n",
    "            \\t2- Addition\\n\n",
    "            \\t3- Addition\\n\n",
    "            \\t- Addition\\n\n",
    "            \\t1- Addition\\n\")\n"
   ]
  },
  {
   "cell_type": "code",
   "execution_count": 26,
   "id": "d7f64d09",
   "metadata": {},
   "outputs": [],
   "source": [
    "def programmePrincipal():\n",
    "    x=int(input(\"donner le premier numero\"))\n",
    "    y=int(input(\"donner le deuxiéme numero\"))\n",
    "    menu()     \n",
    "    print(\"le resultats est =\",z)\n",
    "\n",
    "\n",
    "  "
   ]
  },
  {
   "cell_type": "code",
   "execution_count": 27,
   "id": "6a43e8fb",
   "metadata": {},
   "outputs": [
    {
     "name": "stdout",
     "output_type": "stream",
     "text": [
      "donner le premier numero3\n",
      "donner le deuxiéme numero4\n",
      "enter votre choix :\n",
      "\t1- Addition\n",
      "\n",
      "\t2- soustraction\n",
      "\n",
      "\t3- multiplication\n",
      "\n",
      "\t4- devision\n",
      "\n",
      "\t5- puissance\n",
      "\n",
      "que voulez vous faire5\n",
      "le resultats est = 11\n"
     ]
    }
   ],
   "source": [
    "programmePrincipal()"
   ]
  },
  {
   "cell_type": "code",
   "execution_count": 1,
   "id": "cad987d7",
   "metadata": {},
   "outputs": [
    {
     "name": "stdin",
     "output_type": "stream",
     "text": [
      "entrer x  10\n",
      "entrer y  12\n"
     ]
    },
    {
     "name": "stdout",
     "output_type": "stream",
     "text": [
      "\n",
      "    --------------------------------------------------------------------------------\n",
      "    |entrer votre choix:\n",
      "    |    - 1 addition\n",
      "    |    - 2 soustraction\n",
      "    |    - 3 multiplication\n",
      "    |    - 4 devision\n",
      "    |    - 5 puissance\n",
      "    --------------------------------------------------------------------------------\n",
      "\n",
      "    \n"
     ]
    },
    {
     "name": "stdin",
     "output_type": "stream",
     "text": [
      "entrer votre choix 3\n"
     ]
    },
    {
     "name": "stdout",
     "output_type": "stream",
     "text": [
      "la multiplication de x = 10 et y = 12 est : z= 120 \n"
     ]
    }
   ],
   "source": [
    "def addition(x,y):\n",
    "    z=x+y\n",
    "    return z\n",
    "def soustraction(x,y):\n",
    "    z=x-y\n",
    "    return z\n",
    "def multiplication(x,y):\n",
    "    z=x*y\n",
    "    return z\n",
    "def devision(x,y):\n",
    "    z=x/y\n",
    "    return z\n",
    "def puissance(x,y):\n",
    "    z=x**y\n",
    "    return z\n",
    "\n",
    "def saisir():\n",
    "    x= int(input(\"entrer x \"))\n",
    "    y= int(input(\"entrer y \"))\n",
    "    return x,y\n",
    "\n",
    "\n",
    "def affichage_menu():\n",
    "    menu = \"\"\"\n",
    "    --------------------------------------------------------------------------------\n",
    "    |entrer votre choix:\n",
    "    |    - 1 addition\n",
    "    |    - 2 soustraction\n",
    "    |    - 3 multiplication\n",
    "    |    - 4 devision\n",
    "    |    - 5 puissance\n",
    "    --------------------------------------------------------------------------------\n",
    "\n",
    "    \"\"\"\n",
    "    print(menu)\n",
    "\n",
    "def saisir_choix():\n",
    "    choix = int(input(\"entrer votre choix\"))\n",
    "    return choix\n",
    "\n",
    "def calcul(choix,x,y):\n",
    "    if choix == 1 :\n",
    "        z = addition(x,y)\n",
    "        message = f\"l'addition de x = {x} et y = {y} est : z= {z} \"\n",
    "    elif choix == 2 :\n",
    "        z = soustraction(x,y) \n",
    "        message = f\"la soustraction de x = {x} et y = {y} est : z= {z} \"\n",
    "    elif choix == 3 :\n",
    "        z = multiplication(x,y)\n",
    "        message = f\"la multiplication de x = {x} et y = {y} est : z= {z} \"\n",
    "    elif choix == 4 :\n",
    "        z = devision(x,y)\n",
    "        message = f\"la devision de x = {x} et y = {y} est : z= {z} \"\n",
    "    elif choix == 5 :\n",
    "        z = puissance(x,y)\n",
    "        message = f\"la puissance de x = {x} et y = {y} est : z= {z} \"\n",
    "        \n",
    "    return message\n",
    "\n",
    "def affichage(message):\n",
    "    print(message)\n",
    "    \n",
    "    \n",
    "def main():\n",
    "    # saisir x et y \n",
    "    x,y = saisir()\n",
    "    # affichage de menu \n",
    "    affichage_menu()\n",
    "    # saisir choix \n",
    "    choix = saisir_choix()\n",
    "    # calcul \n",
    "    message = calcul(choix,x,y)\n",
    "    # affichage\n",
    "    affichage(message)\n",
    "main()   "
   ]
  },
  {
   "cell_type": "code",
   "execution_count": 4,
   "id": "7e2e05d1-f2d3-4ddf-bae1-3b4598e541d2",
   "metadata": {},
   "outputs": [
    {
     "name": "stdin",
     "output_type": "stream",
     "text": [
      "enter the number of hours 97\n",
      "enter the number of minutes 54\n",
      "enter the number of seconds 45\n"
     ]
    },
    {
     "name": "stdout",
     "output_type": "stream",
     "text": [
      "the number of days is 4.0796875\n"
     ]
    }
   ],
   "source": [
    "def input_numbers():\n",
    "    number_of_hours=int(input(\"enter the number of hours\"))\n",
    "    number_of_minutes=int(input(\"enter the number of minutes\"))\n",
    "    number_of_seconds=int(input(\"enter the number of seconds\"))\n",
    "    return number_of_hours,number_of_minutes,number_of_seconds\n",
    "\n",
    "def calculate_results(number_of_hours,number_of_minutes,number_of_seconds):\n",
    "    number_of_days = (number_of_hours + (number_of_minutes/60) + (number_of_seconds / (60*60)))/24\n",
    "    return number_of_days\n",
    "\n",
    "def show_results(number_of_days):\n",
    "    message=f\"the number of days is {number_of_days}\"\n",
    "    print(message)\n",
    "    \n",
    "def main():\n",
    "    number_of_hours,number_of_minutes,number_of_seconds=input_numbers()\n",
    "    number_of_days=calculate_results(number_of_hours,number_of_minutes,number_of_seconds)\n",
    "    show_results(number_of_days)\n",
    "main()"
   ]
  },
  {
   "cell_type": "code",
   "execution_count": null,
   "id": "8bcfbc00-bf41-4073-ac66-72a379432995",
   "metadata": {},
   "outputs": [],
   "source": []
  }
 ],
 "metadata": {
  "kernelspec": {
   "display_name": "Python 3 (ipykernel)",
   "language": "python",
   "name": "python3"
  },
  "language_info": {
   "codemirror_mode": {
    "name": "ipython",
    "version": 3
   },
   "file_extension": ".py",
   "mimetype": "text/x-python",
   "name": "python",
   "nbconvert_exporter": "python",
   "pygments_lexer": "ipython3",
   "version": "3.9.12"
  }
 },
 "nbformat": 4,
 "nbformat_minor": 5
}
