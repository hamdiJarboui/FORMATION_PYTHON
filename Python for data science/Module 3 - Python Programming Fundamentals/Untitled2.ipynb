{
 "cells": [
  {
   "cell_type": "code",
   "execution_count": null,
   "id": "bf51490a-78bc-43bf-87c2-a74a0dc74ff7",
   "metadata": {},
   "outputs": [
    {
     "name": "stdin",
     "output_type": "stream",
     "text": [
      "enter a number 55\n",
      "enter a number 22\n"
     ]
    }
   ],
   "source": [
    "verif = True \n",
    "while verif :\n",
    "    nombre= int(input(\"enter a number\"))\n",
    "    if nombre < 5 :\n",
    "        verif = False\n",
    "        # break\n",
    "    else :\n",
    "        continue"
   ]
  },
  {
   "cell_type": "code",
   "execution_count": 4,
   "id": "ce3a3db0-c926-4f07-9c3e-776606993540",
   "metadata": {},
   "outputs": [
    {
     "data": {
      "text/plain": [
       "1"
      ]
     },
     "execution_count": 4,
     "metadata": {},
     "output_type": "execute_result"
    }
   ],
   "source": [
    "int(True)"
   ]
  },
  {
   "cell_type": "code",
   "execution_count": null,
   "id": "155a52e1-556c-4369-bab2-b9038d733e0d",
   "metadata": {},
   "outputs": [],
   "source": []
  }
 ],
 "metadata": {
  "kernelspec": {
   "display_name": "Python 3 (ipykernel)",
   "language": "python",
   "name": "python3"
  },
  "language_info": {
   "codemirror_mode": {
    "name": "ipython",
    "version": 3
   },
   "file_extension": ".py",
   "mimetype": "text/x-python",
   "name": "python",
   "nbconvert_exporter": "python",
   "pygments_lexer": "ipython3",
   "version": "3.9.12"
  }
 },
 "nbformat": 4,
 "nbformat_minor": 5
}
