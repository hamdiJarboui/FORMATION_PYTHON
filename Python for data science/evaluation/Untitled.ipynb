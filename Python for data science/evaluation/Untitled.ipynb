{
 "cells": [
  {
   "cell_type": "markdown",
   "id": "33454724",
   "metadata": {},
   "source": [
    "# Write a Python program to sum all the items in a list"
   ]
  },
  {
   "cell_type": "code",
   "execution_count": 5,
   "id": "adb3454f",
   "metadata": {},
   "outputs": [
    {
     "name": "stdout",
     "output_type": "stream",
     "text": [
      "some of,all items = 45\n"
     ]
    }
   ],
   "source": [
    "numbers_list = [1,2,3,4,5,6,7,8,9]\n",
    "somme = 0\n",
    "for number in numbers_list:\n",
    "    somme += number\n",
    "print(f\"some of,all items = {somme}\")"
   ]
  },
  {
   "cell_type": "code",
   "execution_count": 6,
   "id": "c71813fb",
   "metadata": {},
   "outputs": [
    {
     "data": {
      "text/plain": [
       "45"
      ]
     },
     "execution_count": 6,
     "metadata": {},
     "output_type": "execute_result"
    }
   ],
   "source": [
    "sum(numbers_list)"
   ]
  },
  {
   "cell_type": "markdown",
   "id": "bb5d6f1d",
   "metadata": {},
   "source": [
    "# Write a Python program to multiply all the items in a list"
   ]
  },
  {
   "cell_type": "code",
   "execution_count": 7,
   "id": "bf696224",
   "metadata": {},
   "outputs": [
    {
     "name": "stdout",
     "output_type": "stream",
     "text": [
      "prod of,all items = 362880\n"
     ]
    }
   ],
   "source": [
    "prod = 1\n",
    "for number in numbers_list:\n",
    "    prod *= number\n",
    "print(f\"prod of,all items = {prod}\")"
   ]
  },
  {
   "cell_type": "markdown",
   "id": "1c14f8a6",
   "metadata": {},
   "source": [
    "# Write a Python program to get the largest number from a list"
   ]
  },
  {
   "cell_type": "code",
   "execution_count": 8,
   "id": "ce2e7e6f",
   "metadata": {},
   "outputs": [
    {
     "name": "stdout",
     "output_type": "stream",
     "text": [
      "the largest element in the list is 9\n"
     ]
    }
   ],
   "source": [
    "maximum = 0\n",
    "for number in numbers_list:\n",
    "    if number > maximum:\n",
    "        maximum = number\n",
    "print(f\"the largest element in the list is {maximum}\")"
   ]
  },
  {
   "cell_type": "markdown",
   "id": "f2161518",
   "metadata": {},
   "source": [
    "# Write a Python program to get the smallest number from a list¶\n"
   ]
  },
  {
   "cell_type": "code",
   "execution_count": 11,
   "id": "041c53cd",
   "metadata": {},
   "outputs": [
    {
     "name": "stdout",
     "output_type": "stream",
     "text": [
      "the smallest element in the list is 1\n"
     ]
    }
   ],
   "source": [
    "minimum = numbers_list[5] if len(numbers_list)> 0 else 0\n",
    "for number in numbers_list:\n",
    "    if number < minimum:\n",
    "        minimum = number\n",
    "print(f\"the smallest element in the list is {minimum}\")"
   ]
  },
  {
   "cell_type": "code",
   "execution_count": 15,
   "id": "5ee57243",
   "metadata": {},
   "outputs": [
    {
     "ename": "Exception",
     "evalue": "list is empty : error message list index out of range",
     "output_type": "error",
     "traceback": [
      "\u001b[1;31m---------------------------------------------------------------------------\u001b[0m",
      "\u001b[1;31mIndexError\u001b[0m                                Traceback (most recent call last)",
      "Input \u001b[1;32mIn [15]\u001b[0m, in \u001b[0;36m<cell line: 2>\u001b[1;34m()\u001b[0m\n\u001b[0;32m      2\u001b[0m \u001b[38;5;28;01mtry\u001b[39;00m :\n\u001b[1;32m----> 3\u001b[0m     minimum \u001b[38;5;241m=\u001b[39m \u001b[43mnumbers_list\u001b[49m\u001b[43m[\u001b[49m\u001b[38;5;241;43m0\u001b[39;49m\u001b[43m]\u001b[49m\n\u001b[0;32m      4\u001b[0m     \u001b[38;5;28;01mfor\u001b[39;00m number \u001b[38;5;129;01min\u001b[39;00m numbers_list:\n",
      "\u001b[1;31mIndexError\u001b[0m: list index out of range",
      "\nDuring handling of the above exception, another exception occurred:\n",
      "\u001b[1;31mException\u001b[0m                                 Traceback (most recent call last)",
      "Input \u001b[1;32mIn [15]\u001b[0m, in \u001b[0;36m<cell line: 2>\u001b[1;34m()\u001b[0m\n\u001b[0;32m      6\u001b[0m             minimum \u001b[38;5;241m=\u001b[39m number\n\u001b[0;32m      7\u001b[0m \u001b[38;5;28;01mexcept\u001b[39;00m \u001b[38;5;167;01mException\u001b[39;00m \u001b[38;5;28;01mas\u001b[39;00m ex: \n\u001b[0;32m      8\u001b[0m \u001b[38;5;66;03m#     print(f\"list is empty : error message {ex}\")\u001b[39;00m\n\u001b[1;32m----> 9\u001b[0m         \u001b[38;5;28;01mraise\u001b[39;00m \u001b[38;5;167;01mException\u001b[39;00m(\u001b[38;5;124mf\u001b[39m\u001b[38;5;124m\"\u001b[39m\u001b[38;5;124mlist is empty : error message \u001b[39m\u001b[38;5;132;01m{\u001b[39;00mex\u001b[38;5;132;01m}\u001b[39;00m\u001b[38;5;124m\"\u001b[39m)\n\u001b[0;32m     10\u001b[0m \u001b[38;5;28;01melse\u001b[39;00m :\n\u001b[0;32m     11\u001b[0m     \u001b[38;5;28mprint\u001b[39m(\u001b[38;5;124mf\u001b[39m\u001b[38;5;124m\"\u001b[39m\u001b[38;5;124mthe smallest element in the list is \u001b[39m\u001b[38;5;132;01m{\u001b[39;00mminimum\u001b[38;5;132;01m}\u001b[39;00m\u001b[38;5;124m\"\u001b[39m)\n",
      "\u001b[1;31mException\u001b[0m: list is empty : error message list index out of range"
     ]
    }
   ],
   "source": [
    "numbers_list = []\n",
    "try :\n",
    "    minimum = numbers_list[0]\n",
    "    for number in numbers_list:\n",
    "        if number < minimum:\n",
    "            minimum = number\n",
    "except Exception as ex: \n",
    "#     print(f\"list is empty : error message {ex}\")\n",
    "        raise Exception(f\"list is empty : error message {ex}\")\n",
    "else :\n",
    "    print(f\"the smallest element in the list is {minimum}\")\n"
   ]
  },
  {
   "cell_type": "code",
   "execution_count": null,
   "id": "ab61613a",
   "metadata": {},
   "outputs": [],
   "source": []
  }
 ],
 "metadata": {
  "kernelspec": {
   "display_name": "Python 3 (ipykernel)",
   "language": "python",
   "name": "python3"
  },
  "language_info": {
   "codemirror_mode": {
    "name": "ipython",
    "version": 3
   },
   "file_extension": ".py",
   "mimetype": "text/x-python",
   "name": "python",
   "nbconvert_exporter": "python",
   "pygments_lexer": "ipython3",
   "version": "3.9.12"
  }
 },
 "nbformat": 4,
 "nbformat_minor": 5
}
