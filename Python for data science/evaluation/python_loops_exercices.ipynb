{
 "cells": [
  {
   "cell_type": "markdown",
   "id": "f488861c",
   "metadata": {},
   "source": [
    "# Exercise 1:\n",
    "Write a program in Python to display the Factorial of a number.\n",
    "\n",
    "Hint 1 \n",
    "Input : 5\n",
    "\n",
    "Expected output \n",
    "Factorial is 120\n",
    "\n",
    "Hint 1 \n",
    "Input : 6\n",
    "\n",
    "Expected output \n",
    "Factorial is 720"
   ]
  },
  {
   "cell_type": "code",
   "execution_count": null,
   "id": "6263df91",
   "metadata": {},
   "outputs": [],
   "source": [
    "\n",
    "\n",
    "# Factorial of a number\n",
    "n = int(input(\"Enter number: \")) # 5\n",
    "if(n == 0 or n < 0):\n",
    "    print(\"Value of n should be greater than 1\")\n",
    "else:\n",
    "    fact = 1\n",
    "    while(n):\n",
    "        fact *= n\n",
    "        n = n-1\n",
    "    print(f\"Factorial is {fact} \")\n",
    "\n",
    "# output\n",
    "# Factorial is 120\n",
    "\n"
   ]
  },
  {
   "cell_type": "markdown",
   "id": "e630009f",
   "metadata": {},
   "source": [
    "# Exercise 2: \n",
    "Write a Python program to reverse a number.\n",
    "\n",
    "Hint 1 \n",
    "Input a number to reverse : 43521\n",
    "\n",
    "Expected output \n",
    "Result: 12534"
   ]
  },
  {
   "cell_type": "code",
   "execution_count": null,
   "id": "398c2535",
   "metadata": {},
   "outputs": [],
   "source": [
    "# Reverse a number\n",
    "n = int(input(\"Enter number: \"))\n",
    "rev = 0\n",
    "\n",
    "while(n != 0):\n",
    "   rem = n % 10\n",
    "   rev = rev * 10 + rem\n",
    "   n = n // 10\n",
    "\n",
    "print(rev)\n",
    "\n",
    "# output\n",
    "# 12534\n"
   ]
  },
  {
   "cell_type": "markdown",
   "id": "ee072e0c",
   "metadata": {},
   "source": [
    "# Exercise 3: \n",
    "Write a program to print n natural number in descending order using a while loop.\n",
    "\n",
    "Hint 1 \n",
    "Enter a range : 10\n",
    "\n",
    "Expected output \n",
    "Result: 10  9  8  7  6  5  4  3  2  1"
   ]
  },
  {
   "cell_type": "code",
   "execution_count": null,
   "id": "f89ab0fe",
   "metadata": {},
   "outputs": [],
   "source": [
    "\n",
    "\n",
    "# N natural number\n",
    "n = int(input(\"Enter range: \")) #10\n",
    "while(n!=0):\n",
    "    print(n, end=\" \")\n",
    "    n = n - 1\n",
    "\n",
    "# output\n",
    "# 10 9 8 7 6 5 4 3 2 1\n",
    "\n"
   ]
  },
  {
   "cell_type": "markdown",
   "id": "82e819fe",
   "metadata": {},
   "source": [
    "# Exercise 4: \n",
    "Write a program to display the first 7 multiples of 7.\n",
    "\n",
    "Hint 1 \n",
    "Use if and for loop with break\n",
    "\n",
    "Expected output \n",
    "Result: 0  7  14  21  28  35  42  49"
   ]
  },
  {
   "cell_type": "code",
   "execution_count": null,
   "id": "5ba64661",
   "metadata": {},
   "outputs": [],
   "source": [
    "\n",
    "\n",
    "# First 7 numbers multiple of 7\n",
    "count = 0\n",
    "for i in range(200):\n",
    "    if i%7 == 0:\n",
    "        print(i,end=\" \")\n",
    "        count = count+1\n",
    "        if count == 8:\n",
    "            break\n",
    "\n",
    "# output\n",
    "# 0 7 14 21 28 35 42 49\n",
    "\n"
   ]
  },
  {
   "cell_type": "markdown",
   "id": "3575682e",
   "metadata": {},
   "source": [
    "# Exercise 5: \n",
    "Write a program that appends the square of each number to a new list.\n",
    "\n",
    "Hint 1 \n",
    "Given x = [2,3,4,5,6,7,8]\n",
    "\n",
    "Expected output \n",
    "Result: [4, 9, 16, 25, 36, 49, 64]"
   ]
  },
  {
   "cell_type": "code",
   "execution_count": null,
   "id": "95cce2e1",
   "metadata": {},
   "outputs": [],
   "source": [
    "\n",
    "\n",
    "#Appending square to a new list\n",
    "x = [2,3,4,5,6,7,8]\n",
    "z = []\n",
    "for i in range(len(x)):\n",
    "    z.append(x[i]**2)\n",
    "print(\"Result: \",z)\n",
    "\n",
    "# output\n",
    "# Result:  [4, 9, 16, 25, 36, 49, 64]\n",
    "\n"
   ]
  },
  {
   "cell_type": "markdown",
   "id": "4582ac08",
   "metadata": {},
   "source": [
    "# Exercise 6: \n",
    "WAP to separate positive and negative number from a list.\n",
    "\n",
    "Hint 1 \n",
    "Given x = [23, 4, -6, 23, -9, 21, 3, -45, -8]\n",
    "\n",
    "Expected output \n",
    "Result:\n",
    "Positive: [23, 4, 23, 21, 3] Negative: [-6, -45, -9, -8]"
   ]
  },
  {
   "cell_type": "code",
   "execution_count": null,
   "id": "a2f42eaa",
   "metadata": {},
   "outputs": [],
   "source": [
    "\n",
    "\n",
    "# Program to separate +ve and -ve\n",
    "x = [23,4,-6,23,-9,21,3,-45,-8]\n",
    "pos = []\n",
    "neg = []\n",
    "for i in range(len(x)):\n",
    "    if x[i] < 0:\n",
    "        neg.append(x[i])\n",
    "    else:\n",
    "        pos.append(x[i])\n",
    "print(\"Positive numbers are: \",pos)\n",
    "print(\"Negative numbers are: \",neg)\n",
    "\n",
    "# output\n",
    "# Positive numbers are:  [23, 4, 23, 21, 3]\n",
    "# Negative numbers are:  [-6, -9, -45, -8]\n",
    "\n"
   ]
  },
  {
   "cell_type": "markdown",
   "id": "09de22a2",
   "metadata": {},
   "source": [
    "# Exercise 7: \n",
    "Write a program that appends the type of elements from a list.\n",
    "\n",
    "Hint 1 \n",
    "Given x = [23, ‘Python’, 23.98]\n",
    "\n",
    "Expected output \n",
    "Result:\n",
    "[<class ‘int’>,<class ‘str’>,<class ‘float’>]"
   ]
  },
  {
   "cell_type": "code",
   "execution_count": null,
   "id": "171ec3ea",
   "metadata": {},
   "outputs": [],
   "source": [
    "\n",
    "\n",
    "# Append a list with types of elements\n",
    "n = [23, 'Python',23.98]\n",
    "x = []\n",
    "for i in range(len(n)):\n",
    "    x.append(type(n[i]))\n",
    "print(n)\n",
    "print(x)\n",
    "\n",
    "# output\n",
    "# [23, 'Python', 23.98]\n",
    "#[<class 'int'>,<class 'str'>,<class 'float'>]\n",
    "\n"
   ]
  },
  {
   "cell_type": "markdown",
   "id": "4133ad76",
   "metadata": {},
   "source": [
    "# Exercise 8: \n",
    "Write a program to filter even and odd number from a list.\n",
    "\n",
    "Hint 1 \n",
    "Given x = [10, 23, 24, 35, 65, 78, 90]\n",
    "\n",
    "Expected output \n",
    "Even numbers: [10, 24, 78, 90] Odd numbers: [23, 35, 65]"
   ]
  },
  {
   "cell_type": "code",
   "execution_count": null,
   "id": "54d2ebc5",
   "metadata": {},
   "outputs": [],
   "source": [
    "\n",
    "\n",
    "# WAP to filter even and odd number form a list\n",
    "x = [10,23,24,35,65,78,90]\n",
    "eve = []\n",
    "odd = []\n",
    "for i in range(len(x)):\n",
    "    if x[i] % 2 == 0:\n",
    "        eve.append(x[i])\n",
    "    else:\n",
    "        odd.append(x[i])\n",
    "print(\"Even numbers are: \",eve)\n",
    "print(\"Odd numbers are: \",odd)\n",
    "\n",
    "# output\n",
    "# Even numbers are:  [10, 24, 78, 90]\n",
    "# Odd numbers are:  [23, 35, 65]\n",
    "\n"
   ]
  }
 ],
 "metadata": {
  "kernelspec": {
   "display_name": "Python 3 (ipykernel)",
   "language": "python",
   "name": "python3"
  },
  "language_info": {
   "codemirror_mode": {
    "name": "ipython",
    "version": 3
   },
   "file_extension": ".py",
   "mimetype": "text/x-python",
   "name": "python",
   "nbconvert_exporter": "python",
   "pygments_lexer": "ipython3",
   "version": "3.9.12"
  }
 },
 "nbformat": 4,
 "nbformat_minor": 5
}
