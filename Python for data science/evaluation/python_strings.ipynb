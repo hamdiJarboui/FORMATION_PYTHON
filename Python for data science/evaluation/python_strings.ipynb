{
 "cells": [
  {
   "cell_type": "markdown",
   "id": "c387803b",
   "metadata": {},
   "source": [
    "# Exercise 1: Write a program to reverse a string in python.\n",
    "Hint \n",
    "Input: python\n",
    "\n",
    "Expected output\n",
    "Result is: nohtyp"
   ]
  },
  {
   "cell_type": "code",
   "execution_count": null,
   "id": "bb5ce78e",
   "metadata": {},
   "outputs": [],
   "source": [
    "# write your code here"
   ]
  },
  {
   "cell_type": "markdown",
   "id": "5c93ab2a",
   "metadata": {},
   "source": [
    "# Exercise 2: Write a program to count vowels and consonants in a string.\n",
    "\n",
    "Hint \n",
    "Input: python\n",
    "\n",
    "Expected output\n",
    "Vowels count is: 1\n",
    "Consonant count is: 5"
   ]
  },
  {
   "cell_type": "code",
   "execution_count": null,
   "id": "81ed0a96",
   "metadata": {},
   "outputs": [],
   "source": [
    "# write your code here"
   ]
  },
  {
   "cell_type": "markdown",
   "id": "2157fbc7",
   "metadata": {},
   "source": [
    "# Exercise 3: Write a program to remove duplicates in a string.\n",
    "\n",
    "Hint \n",
    "Input: pythonlobby\n",
    "\n",
    "Expected output\n",
    "Result is: p y t h o n l b"
   ]
  },
  {
   "cell_type": "code",
   "execution_count": null,
   "id": "15901f4c",
   "metadata": {},
   "outputs": [],
   "source": [
    "# write your code here"
   ]
  },
  {
   "cell_type": "markdown",
   "id": "e54621da",
   "metadata": {},
   "source": [
    "# Exercise 4: Write a program to count the number of letters in a word.\n",
    "\n",
    "Hint \n",
    "Input: pythonlobby\n",
    "\n",
    "Expected output\n",
    "Result is: 11"
   ]
  },
  {
   "cell_type": "code",
   "execution_count": null,
   "id": "15ebeec8",
   "metadata": {},
   "outputs": [],
   "source": [
    "# write your code here"
   ]
  },
  {
   "cell_type": "markdown",
   "id": "1b9c4eb0",
   "metadata": {},
   "source": [
    "# Exercise 5: Python program to convert lower letter to upper and upper letter to lower in a string.\n",
    "Hint \n",
    "Inut: PrOgRaMM\n",
    "\n",
    "Expected output\n",
    "Result is: pRoGrAmm"
   ]
  },
  {
   "cell_type": "code",
   "execution_count": null,
   "id": "2647d691",
   "metadata": {},
   "outputs": [],
   "source": [
    "# write your code here"
   ]
  },
  {
   "cell_type": "markdown",
   "id": "4705ce98",
   "metadata": {},
   "source": [
    "# Exercise 6: Python program to search a specific word in a string.\n",
    "Hint \n",
    "Input:\n",
    "Enter a String:  I am a boy\n",
    "Enter a word to search: boy\n",
    "\n",
    "Expected output\n",
    "boy exists in string\n",
    "\n",
    "Hint \n",
    "Input:\n",
    "Enter a String:  I am a boy\n",
    "Enter a word to search: girl\n",
    "\n",
    "Expected output\n",
    "girl not exists in string"
   ]
  },
  {
   "cell_type": "code",
   "execution_count": null,
   "id": "728bde4e",
   "metadata": {},
   "outputs": [],
   "source": [
    "# write your code here"
   ]
  },
  {
   "cell_type": "markdown",
   "id": "4dcee5c7",
   "metadata": {},
   "source": [
    "# Exercise 7: Write a python program to sort letters of word by lower to upper case format.\n",
    "\n",
    "Hint \n",
    "Input:\n",
    "Enter a String:  pytHOnloBBy\n",
    "\n",
    "Expected output\n",
    "Result: p y t n l o y H O B B"
   ]
  },
  {
   "cell_type": "code",
   "execution_count": null,
   "id": "955da90e",
   "metadata": {},
   "outputs": [],
   "source": [
    "# write your code here"
   ]
  },
  {
   "cell_type": "markdown",
   "id": "2989bf63",
   "metadata": {},
   "source": [
    "# Exercise 8: Write a program in Python to count lower, upper, numeric and special characters in a string.\n",
    "Hint \n",
    "Given x = @pyThOnlobb!Y34\n",
    "\n",
    "Expected output\n",
    "Numeric counts 2\n",
    "Lower counts 8\n",
    "Upper counts 3\n",
    "Special counts 2"
   ]
  },
  {
   "cell_type": "code",
   "execution_count": null,
   "id": "278f1d78",
   "metadata": {},
   "outputs": [],
   "source": [
    "# write your code here"
   ]
  },
  {
   "cell_type": "markdown",
   "id": "d67c5429",
   "metadata": {},
   "source": [
    "# Exercise 9: Python program to convert all the starting letter of a word in upper case format or in the title format.\n",
    "\n",
    "Hint \n",
    "Given n = “hello this is pythonlobby”\n",
    "\n",
    "Expected output\n",
    "Result: Hello This Is Pythonlobby"
   ]
  },
  {
   "cell_type": "code",
   "execution_count": null,
   "id": "cdf69981",
   "metadata": {},
   "outputs": [],
   "source": [
    "# write your code here"
   ]
  },
  {
   "cell_type": "code",
   "execution_count": null,
   "id": "8fcccf89",
   "metadata": {},
   "outputs": [],
   "source": [
    "!pip uninstall junit2html\n",
    "\n",
    "\n"
   ]
  },
  {
   "cell_type": "code",
   "execution_count": null,
   "id": "1c3deae3",
   "metadata": {},
   "outputs": [],
   "source": [
    "!pip install pytest-html\n"
   ]
  },
  {
   "cell_type": "code",
   "execution_count": null,
   "id": "52000c0b",
   "metadata": {},
   "outputs": [],
   "source": []
  },
  {
   "cell_type": "code",
   "execution_count": null,
   "id": "84d14c5e",
   "metadata": {},
   "outputs": [],
   "source": [
    "!xmllint --noout --schema /usr/share/xml/xsd/junit.xsd C:\\Users\\hamdi.jarboui\\Desktop\\esys-flash-junit.xml\n"
   ]
  },
  {
   "cell_type": "code",
   "execution_count": null,
   "id": "920c1016",
   "metadata": {},
   "outputs": [],
   "source": [
    "!pip install junit2html\n",
    "\n"
   ]
  },
  {
   "cell_type": "code",
   "execution_count": 2,
   "id": "d0e5eb7d",
   "metadata": {},
   "outputs": [
    {
     "ename": "ModuleNotFoundError",
     "evalue": "No module named 'junit2html'",
     "output_type": "error",
     "traceback": [
      "\u001b[1;31m---------------------------------------------------------------------------\u001b[0m",
      "\u001b[1;31mModuleNotFoundError\u001b[0m                       Traceback (most recent call last)",
      "Input \u001b[1;32mIn [2]\u001b[0m, in \u001b[0;36m<cell line: 1>\u001b[1;34m()\u001b[0m\n\u001b[1;32m----> 1\u001b[0m \u001b[38;5;28;01mfrom\u001b[39;00m \u001b[38;5;21;01mjunit2html\u001b[39;00m \u001b[38;5;28;01mimport\u001b[39;00m Junit2Html\n\u001b[0;32m      3\u001b[0m junit_file \u001b[38;5;241m=\u001b[39m \u001b[38;5;124mr\u001b[39m\u001b[38;5;124m'\u001b[39m\u001b[38;5;124mC:\u001b[39m\u001b[38;5;124m\\\u001b[39m\u001b[38;5;124mUsers\u001b[39m\u001b[38;5;124m\\\u001b[39m\u001b[38;5;124mhamdi.jarboui\u001b[39m\u001b[38;5;124m\\\u001b[39m\u001b[38;5;124mDesktop\u001b[39m\u001b[38;5;124m\\\u001b[39m\u001b[38;5;124mesys-flash-junit.xml\u001b[39m\u001b[38;5;124m'\u001b[39m\n\u001b[0;32m      4\u001b[0m html_report \u001b[38;5;241m=\u001b[39m \u001b[38;5;124m'\u001b[39m\u001b[38;5;124mreport.html\u001b[39m\u001b[38;5;124m'\u001b[39m\n",
      "\u001b[1;31mModuleNotFoundError\u001b[0m: No module named 'junit2html'"
     ]
    }
   ],
   "source": [
    "from junit2html import Junit2Html\n",
    "\n",
    "junit_file = r'C:\\Users\\hamdi.jarboui\\Desktop\\esys-flash-junit.xml'\n",
    "html_report = 'report.html'\n",
    "\n",
    "Junit2Html(junit_file, html_report).convert()"
   ]
  },
  {
   "cell_type": "code",
   "execution_count": 3,
   "id": "0a3ff4b8",
   "metadata": {},
   "outputs": [
    {
     "name": "stdout",
     "output_type": "stream",
     "text": [
      "Collecting unittest-xml-reporting\n",
      "  Using cached unittest_xml_reporting-3.2.0-py2.py3-none-any.whl (20 kB)\n",
      "Requirement already satisfied: junit2html in c:\\users\\hamdi.jarboui\\anaconda3\\lib\\site-packages (30.1.3)\n",
      "Requirement already satisfied: lxml in c:\\users\\hamdi.jarboui\\anaconda3\\lib\\site-packages (from unittest-xml-reporting) (4.8.0)\n",
      "Requirement already satisfied: jinja2>=3.0 in c:\\users\\hamdi.jarboui\\anaconda3\\lib\\site-packages (from junit2html) (3.1.2)\n",
      "Requirement already satisfied: MarkupSafe>=2.0 in c:\\users\\hamdi.jarboui\\anaconda3\\lib\\site-packages (from jinja2>=3.0->junit2html) (2.0.1)\n",
      "Installing collected packages: unittest-xml-reporting\n",
      "Successfully installed unittest-xml-reporting-3.2.0\n"
     ]
    }
   ],
   "source": [
    "!pip install unittest-xml-reporting junit2html\n"
   ]
  },
  {
   "cell_type": "code",
   "execution_count": 4,
   "id": "3ee1768a",
   "metadata": {},
   "outputs": [
    {
     "name": "stderr",
     "output_type": "stream",
     "text": [
      "usage: ipykernel_launcher.py [-h] [-v] [-q] [--locals] [-k TESTNAMEPATTERNS] [tests ...]\n",
      "ipykernel_launcher.py: error: unrecognized arguments: -f\n"
     ]
    },
    {
     "ename": "SystemExit",
     "evalue": "2",
     "output_type": "error",
     "traceback": [
      "An exception has occurred, use %tb to see the full traceback.\n",
      "\u001b[1;31mSystemExit\u001b[0m\u001b[1;31m:\u001b[0m 2\n"
     ]
    },
    {
     "name": "stderr",
     "output_type": "stream",
     "text": [
      "C:\\Users\\hamdi.jarboui\\Anaconda3\\lib\\site-packages\\IPython\\core\\interactiveshell.py:3377: UserWarning: To exit: use 'exit', 'quit', or Ctrl-D.\n",
      "  warn(\"To exit: use 'exit', 'quit', or Ctrl-D.\", stacklevel=1)\n"
     ]
    }
   ],
   "source": [
    "\n",
    "\n",
    "junit_file = r'C:\\Users\\hamdi.jarboui\\Desktop\\esys-flash-junit.xml'\n",
    "html_report = 'report.html'\n",
    "\n",
    "To generate an HTML report from JUnit files using Python, you can use the \"pytest\" library. Here's an example command:\n",
    "\n",
    "css\n",
    "\n"
   ]
  },
  {
   "cell_type": "code",
   "execution_count": 5,
   "id": "39bb6a33",
   "metadata": {},
   "outputs": [
    {
     "name": "stderr",
     "output_type": "stream",
     "text": [
      "Traceback (most recent call last):\n",
      "  File \"C:\\Users\\hamdi.jarboui\\Anaconda3\\Scripts\\pytest-script.py\", line 10, in <module>\n",
      "    sys.exit(console_main())\n",
      "  File \"C:\\Users\\hamdi.jarboui\\Anaconda3\\lib\\site-packages\\_pytest\\config\\__init__.py\", line 187, in console_main\n",
      "    code = main()\n",
      "  File \"C:\\Users\\hamdi.jarboui\\Anaconda3\\lib\\site-packages\\_pytest\\config\\__init__.py\", line 145, in main\n",
      "    config = _prepareconfig(args, plugins)\n",
      "  File \"C:\\Users\\hamdi.jarboui\\Anaconda3\\lib\\site-packages\\_pytest\\config\\__init__.py\", line 324, in _prepareconfig\n",
      "    config = pluginmanager.hook.pytest_cmdline_parse(\n",
      "  File \"C:\\Users\\hamdi.jarboui\\Anaconda3\\lib\\site-packages\\pluggy\\_hooks.py\", line 265, in __call__\n",
      "    return self._hookexec(self.name, self.get_hookimpls(), kwargs, firstresult)\n",
      "  File \"C:\\Users\\hamdi.jarboui\\Anaconda3\\lib\\site-packages\\pluggy\\_manager.py\", line 80, in _hookexec\n",
      "    return self._inner_hookexec(hook_name, methods, kwargs, firstresult)\n",
      "  File \"C:\\Users\\hamdi.jarboui\\Anaconda3\\lib\\site-packages\\pluggy\\_callers.py\", line 55, in _multicall\n",
      "    gen.send(outcome)\n",
      "  File \"C:\\Users\\hamdi.jarboui\\Anaconda3\\lib\\site-packages\\_pytest\\helpconfig.py\", line 102, in pytest_cmdline_parse\n",
      "    config: Config = outcome.get_result()\n",
      "  File \"C:\\Users\\hamdi.jarboui\\Anaconda3\\lib\\site-packages\\pluggy\\_result.py\", line 60, in get_result\n",
      "    raise ex[1].with_traceback(ex[2])\n",
      "  File \"C:\\Users\\hamdi.jarboui\\Anaconda3\\lib\\site-packages\\pluggy\\_callers.py\", line 39, in _multicall\n",
      "    res = hook_impl.function(*args)\n",
      "  File \"C:\\Users\\hamdi.jarboui\\Anaconda3\\lib\\site-packages\\_pytest\\config\\__init__.py\", line 1016, in pytest_cmdline_parse\n",
      "    self.parse(args)\n",
      "  File \"C:\\Users\\hamdi.jarboui\\Anaconda3\\lib\\site-packages\\_pytest\\config\\__init__.py\", line 1304, in parse\n",
      "    self._preparse(args, addopts=addopts)\n",
      "  File \"C:\\Users\\hamdi.jarboui\\Anaconda3\\lib\\site-packages\\_pytest\\config\\__init__.py\", line 1187, in _preparse\n",
      "    self.pluginmanager.load_setuptools_entrypoints(\"pytest11\")\n",
      "  File \"C:\\Users\\hamdi.jarboui\\Anaconda3\\lib\\site-packages\\pluggy\\_manager.py\", line 287, in load_setuptools_entrypoints\n",
      "    plugin = ep.load()\n",
      "  File \"C:\\Users\\hamdi.jarboui\\Anaconda3\\lib\\importlib\\metadata.py\", line 86, in load\n",
      "    module = import_module(match.group('module'))\n",
      "  File \"C:\\Users\\hamdi.jarboui\\Anaconda3\\lib\\importlib\\__init__.py\", line 127, in import_module\n",
      "    return _bootstrap._gcd_import(name[level:], package, level)\n",
      "  File \"<frozen importlib._bootstrap>\", line 1030, in _gcd_import\n",
      "  File \"<frozen importlib._bootstrap>\", line 1007, in _find_and_load\n",
      "  File \"<frozen importlib._bootstrap>\", line 972, in _find_and_load_unlocked\n",
      "  File \"<frozen importlib._bootstrap>\", line 228, in _call_with_frames_removed\n",
      "  File \"<frozen importlib._bootstrap>\", line 1030, in _gcd_import\n",
      "  File \"<frozen importlib._bootstrap>\", line 1007, in _find_and_load\n",
      "  File \"<frozen importlib._bootstrap>\", line 972, in _find_and_load_unlocked\n",
      "  File \"<frozen importlib._bootstrap>\", line 228, in _call_with_frames_removed\n",
      "  File \"<frozen importlib._bootstrap>\", line 1030, in _gcd_import\n",
      "  File \"<frozen importlib._bootstrap>\", line 1007, in _find_and_load\n",
      "  File \"<frozen importlib._bootstrap>\", line 986, in _find_and_load_unlocked\n",
      "  File \"<frozen importlib._bootstrap>\", line 680, in _load_unlocked\n",
      "  File \"C:\\Users\\hamdi.jarboui\\Anaconda3\\lib\\site-packages\\_pytest\\assertion\\rewrite.py\", line 168, in exec_module\n",
      "    exec(co, module.__dict__)\n",
      "  File \"C:\\Users\\hamdi.jarboui\\Anaconda3\\lib\\site-packages\\dash\\__init__.py\", line 5, in <module>\n",
      "    from .dash import Dash, no_update  # noqa: F401,E402\n",
      "  File \"C:\\Users\\hamdi.jarboui\\Anaconda3\\lib\\site-packages\\_pytest\\assertion\\rewrite.py\", line 168, in exec_module\n",
      "    exec(co, module.__dict__)\n",
      "  File \"C:\\Users\\hamdi.jarboui\\Anaconda3\\lib\\site-packages\\dash\\dash.py\", line 20, in <module>\n",
      "    import flask\n",
      "  File \"C:\\Users\\hamdi.jarboui\\Anaconda3\\lib\\site-packages\\flask\\__init__.py\", line 14, in <module>\n",
      "    from jinja2 import escape\n",
      "ImportError: cannot import name 'escape' from 'jinja2' (C:\\Users\\hamdi.jarboui\\Anaconda3\\lib\\site-packages\\jinja2\\__init__.py)\n"
     ]
    }
   ],
   "source": [
    "!pytest --junitxml=C:\\Users\\hamdi.jarboui\\Desktop\\esys-flash-junit.xml --html=path/to/report.html\n"
   ]
  },
  {
   "cell_type": "code",
   "execution_count": 11,
   "id": "b4204ce3",
   "metadata": {},
   "outputs": [
    {
     "name": "stderr",
     "output_type": "stream",
     "text": [
      "Traceback (most recent call last):\n",
      "  File \"C:\\Users\\hamdi.jarboui\\Anaconda3\\lib\\runpy.py\", line 197, in _run_module_as_main\n",
      "    return _run_code(code, main_globals, None,\n",
      "  File \"C:\\Users\\hamdi.jarboui\\Anaconda3\\lib\\runpy.py\", line 87, in _run_code\n",
      "    exec(code, run_globals)\n",
      "  File \"C:\\Users\\hamdi.jarboui\\Anaconda3\\Scripts\\nose2.exe\\__main__.py\", line 7, in <module>\n",
      "  File \"C:\\Users\\hamdi.jarboui\\Anaconda3\\lib\\site-packages\\nose2\\main.py\", line 339, in discover\n",
      "    return main(*args, **kwargs)\n",
      "  File \"C:\\Users\\hamdi.jarboui\\Anaconda3\\lib\\site-packages\\nose2\\main.py\", line 87, in __init__\n",
      "    super(PluggableTestProgram, self).__init__(**kw)\n",
      "  File \"C:\\Users\\hamdi.jarboui\\Anaconda3\\lib\\unittest\\main.py\", line 100, in __init__\n",
      "    self.parseArgs(argv)\n",
      "  File \"C:\\Users\\hamdi.jarboui\\Anaconda3\\lib\\site-packages\\nose2\\main.py\", line 109, in parseArgs\n",
      "    self.handleCfgArgs(cfg_args)\n",
      "  File \"C:\\Users\\hamdi.jarboui\\Anaconda3\\lib\\site-packages\\nose2\\main.py\", line 231, in handleCfgArgs\n",
      "    self.loadPlugins()\n",
      "  File \"C:\\Users\\hamdi.jarboui\\Anaconda3\\lib\\site-packages\\nose2\\main.py\", line 277, in loadPlugins\n",
      "    self.session.loadPlugins(self.defaultPlugins, self.excludePlugins)\n",
      "  File \"C:\\Users\\hamdi.jarboui\\Anaconda3\\lib\\site-packages\\nose2\\session.py\", line 150, in loadPlugins\n",
      "    self.loadPluginsFromModule(util.module_from_name(module))\n",
      "  File \"C:\\Users\\hamdi.jarboui\\Anaconda3\\lib\\site-packages\\nose2\\util.py\", line 76, in module_from_name\n",
      "    __import__(name)\n",
      "ModuleNotFoundError: No module named 'nose2_html_report.plugin'\n"
     ]
    }
   ],
   "source": [
    "!nose2 --junit-xml=C:\\Users\\hamdi.jarboui\\Desktop\\esys-flash-junit.xml --plugin=nose2_html_report.plugin"
   ]
  },
  {
   "cell_type": "code",
   "execution_count": 8,
   "id": "f0bec23e",
   "metadata": {},
   "outputs": [
    {
     "name": "stdout",
     "output_type": "stream",
     "text": [
      "Requirement already satisfied: nose2-html-report in c:\\users\\hamdi.jarboui\\anaconda3\\lib\\site-packages (0.6.0)\n",
      "Requirement already satisfied: jinja2 in c:\\users\\hamdi.jarboui\\anaconda3\\lib\\site-packages (from nose2-html-report) (3.1.2)\n",
      "Requirement already satisfied: MarkupSafe>=2.0 in c:\\users\\hamdi.jarboui\\anaconda3\\lib\\site-packages (from jinja2->nose2-html-report) (2.0.1)\n"
     ]
    }
   ],
   "source": [
    "!pip install nose2-html-report\n"
   ]
  },
  {
   "cell_type": "code",
   "execution_count": 10,
   "id": "8c0fb4c4",
   "metadata": {},
   "outputs": [
    {
     "name": "stdout",
     "output_type": "stream",
     "text": [
      "Name: nose2-html-report\n",
      "Version: 0.6.0\n",
      "Summary: Generate an HTML report for your unit tests\n",
      "Home-page: https://github.com/mgrijalva/nose2-html-report\n",
      "Author: Michael Grijalva\n",
      "Author-email: michaelgrij@gmail.com\n",
      "License: MIT\n",
      "Location: c:\\users\\hamdi.jarboui\\anaconda3\\lib\\site-packages\n",
      "Requires: jinja2\n",
      "Required-by: \n"
     ]
    }
   ],
   "source": [
    "!pip show nose2-html-report\n"
   ]
  },
  {
   "cell_type": "code",
   "execution_count": 13,
   "id": "d72a0707",
   "metadata": {},
   "outputs": [
    {
     "name": "stdout",
     "output_type": "stream",
     "text": [
      "['C:\\\\Users\\\\hamdi.jarboui\\\\FORMATION_PYTHON\\\\Python for data science', 'C:\\\\Users\\\\hamdi.jarboui\\\\Anaconda3\\\\python39.zip', 'C:\\\\Users\\\\hamdi.jarboui\\\\Anaconda3\\\\DLLs', 'C:\\\\Users\\\\hamdi.jarboui\\\\Anaconda3\\\\lib', 'C:\\\\Users\\\\hamdi.jarboui\\\\Anaconda3', '', 'C:\\\\Users\\\\hamdi.jarboui\\\\Anaconda3\\\\lib\\\\site-packages', 'C:\\\\Users\\\\hamdi.jarboui\\\\Anaconda3\\\\lib\\\\site-packages\\\\win32', 'C:\\\\Users\\\\hamdi.jarboui\\\\Anaconda3\\\\lib\\\\site-packages\\\\win32\\\\lib', 'C:\\\\Users\\\\hamdi.jarboui\\\\Anaconda3\\\\lib\\\\site-packages\\\\Pythonwin']\n"
     ]
    }
   ],
   "source": [
    "import sys\n",
    "print(sys.path)\n"
   ]
  },
  {
   "cell_type": "code",
   "execution_count": 14,
   "id": "dda5a72e",
   "metadata": {},
   "outputs": [
    {
     "name": "stderr",
     "output_type": "stream",
     "text": [
      "ERROR: Could not find a version that satisfies the requirement pytest-junit (from versions: none)\n",
      "ERROR: No matching distribution found for pytest-junit\n"
     ]
    }
   ],
   "source": [
    "!pip install pytest-junit\n"
   ]
  },
  {
   "cell_type": "code",
   "execution_count": 15,
   "id": "9b506335",
   "metadata": {},
   "outputs": [
    {
     "name": "stderr",
     "output_type": "stream",
     "text": [
      "'pytest_junit_to_html' n'est pas reconnu en tant que commande interne\n",
      "ou externe, un programme ex‚cutable ou un fichier de commandes.\n"
     ]
    }
   ],
   "source": [
    "!pytest_junit_to_html --junitxml=path/to/junit.xml --html=path/to/report.html"
   ]
  },
  {
   "cell_type": "code",
   "execution_count": 17,
   "id": "1d6f7d8a",
   "metadata": {},
   "outputs": [],
   "source": [
    "!junit2html \"C:\\Users\\hamdi.jarboui\\Desktop\\esys-flash-junit.xml\" report.html"
   ]
  },
  {
   "cell_type": "code",
   "execution_count": 21,
   "id": "f2df997f",
   "metadata": {},
   "outputs": [
    {
     "name": "stdout",
     "output_type": "stream",
     "text": [
      "Collecting pytest-html-reporter\n",
      "  Downloading pytest-html-reporter-0.2.9.tar.gz (24 kB)\n",
      "Requirement already satisfied: pytest in c:\\users\\hamdi.jarboui\\anaconda3\\lib\\site-packages (from pytest-html-reporter) (7.1.1)\n",
      "Requirement already satisfied: Pillow in c:\\users\\hamdi.jarboui\\anaconda3\\lib\\site-packages (from pytest-html-reporter) (9.0.1)\n",
      "Requirement already satisfied: attrs>=19.2.0 in c:\\users\\hamdi.jarboui\\anaconda3\\lib\\site-packages (from pytest->pytest-html-reporter) (21.4.0)\n",
      "Requirement already satisfied: iniconfig in c:\\users\\hamdi.jarboui\\anaconda3\\lib\\site-packages (from pytest->pytest-html-reporter) (1.1.1)\n",
      "Requirement already satisfied: packaging in c:\\users\\hamdi.jarboui\\anaconda3\\lib\\site-packages (from pytest->pytest-html-reporter) (21.3)\n",
      "Requirement already satisfied: pluggy<2.0,>=0.12 in c:\\users\\hamdi.jarboui\\anaconda3\\lib\\site-packages (from pytest->pytest-html-reporter) (1.0.0)\n",
      "Requirement already satisfied: py>=1.8.2 in c:\\users\\hamdi.jarboui\\anaconda3\\lib\\site-packages (from pytest->pytest-html-reporter) (1.11.0)\n",
      "Requirement already satisfied: tomli>=1.0.0 in c:\\users\\hamdi.jarboui\\anaconda3\\lib\\site-packages (from pytest->pytest-html-reporter) (1.2.2)\n",
      "Requirement already satisfied: atomicwrites>=1.0 in c:\\users\\hamdi.jarboui\\anaconda3\\lib\\site-packages (from pytest->pytest-html-reporter) (1.4.0)\n",
      "Requirement already satisfied: colorama in c:\\users\\hamdi.jarboui\\anaconda3\\lib\\site-packages (from pytest->pytest-html-reporter) (0.4.4)\n",
      "Requirement already satisfied: pyparsing!=3.0.5,>=2.0.2 in c:\\users\\hamdi.jarboui\\anaconda3\\lib\\site-packages (from packaging->pytest->pytest-html-reporter) (3.0.4)\n",
      "Building wheels for collected packages: pytest-html-reporter\n",
      "  Building wheel for pytest-html-reporter (setup.py): started\n",
      "  Building wheel for pytest-html-reporter (setup.py): finished with status 'done'\n",
      "  Created wheel for pytest-html-reporter: filename=pytest_html_reporter-0.2.9-py3-none-any.whl size=24411 sha256=2b29d8d63db185efb9cd7e5671d08f46b91578ad7bcae8905b14b7a2dd756747\n",
      "  Stored in directory: c:\\users\\hamdi.jarboui\\appdata\\local\\pip\\cache\\wheels\\3d\\ce\\fb\\9dfa34482b844a061106280fc324ad82978903cfb1a2aaf33f\n",
      "Successfully built pytest-html-reporter\n",
      "Installing collected packages: pytest-html-reporter\n",
      "Successfully installed pytest-html-reporter-0.2.9\n"
     ]
    }
   ],
   "source": [
    "!pip install pytest-html-reporter\n"
   ]
  },
  {
   "cell_type": "code",
   "execution_count": 25,
   "id": "f2c79216",
   "metadata": {},
   "outputs": [
    {
     "name": "stderr",
     "output_type": "stream",
     "text": [
      "Traceback (most recent call last):\n",
      "  File \"C:\\Users\\hamdi.jarboui\\Anaconda3\\Scripts\\pytest-script.py\", line 10, in <module>\n",
      "    sys.exit(console_main())\n",
      "  File \"C:\\Users\\hamdi.jarboui\\Anaconda3\\lib\\site-packages\\_pytest\\config\\__init__.py\", line 187, in console_main\n",
      "    code = main()\n",
      "  File \"C:\\Users\\hamdi.jarboui\\Anaconda3\\lib\\site-packages\\_pytest\\config\\__init__.py\", line 145, in main\n",
      "    config = _prepareconfig(args, plugins)\n",
      "  File \"C:\\Users\\hamdi.jarboui\\Anaconda3\\lib\\site-packages\\_pytest\\config\\__init__.py\", line 324, in _prepareconfig\n",
      "    config = pluginmanager.hook.pytest_cmdline_parse(\n",
      "  File \"C:\\Users\\hamdi.jarboui\\Anaconda3\\lib\\site-packages\\pluggy\\_hooks.py\", line 265, in __call__\n",
      "    return self._hookexec(self.name, self.get_hookimpls(), kwargs, firstresult)\n",
      "  File \"C:\\Users\\hamdi.jarboui\\Anaconda3\\lib\\site-packages\\pluggy\\_manager.py\", line 80, in _hookexec\n",
      "    return self._inner_hookexec(hook_name, methods, kwargs, firstresult)\n",
      "  File \"C:\\Users\\hamdi.jarboui\\Anaconda3\\lib\\site-packages\\pluggy\\_callers.py\", line 55, in _multicall\n",
      "    gen.send(outcome)\n",
      "  File \"C:\\Users\\hamdi.jarboui\\Anaconda3\\lib\\site-packages\\_pytest\\helpconfig.py\", line 102, in pytest_cmdline_parse\n",
      "    config: Config = outcome.get_result()\n",
      "  File \"C:\\Users\\hamdi.jarboui\\Anaconda3\\lib\\site-packages\\pluggy\\_result.py\", line 60, in get_result\n",
      "    raise ex[1].with_traceback(ex[2])\n",
      "  File \"C:\\Users\\hamdi.jarboui\\Anaconda3\\lib\\site-packages\\pluggy\\_callers.py\", line 39, in _multicall\n",
      "    res = hook_impl.function(*args)\n",
      "  File \"C:\\Users\\hamdi.jarboui\\Anaconda3\\lib\\site-packages\\_pytest\\config\\__init__.py\", line 1016, in pytest_cmdline_parse\n",
      "    self.parse(args)\n",
      "  File \"C:\\Users\\hamdi.jarboui\\Anaconda3\\lib\\site-packages\\_pytest\\config\\__init__.py\", line 1304, in parse\n",
      "    self._preparse(args, addopts=addopts)\n",
      "  File \"C:\\Users\\hamdi.jarboui\\Anaconda3\\lib\\site-packages\\_pytest\\config\\__init__.py\", line 1187, in _preparse\n",
      "    self.pluginmanager.load_setuptools_entrypoints(\"pytest11\")\n",
      "  File \"C:\\Users\\hamdi.jarboui\\Anaconda3\\lib\\site-packages\\pluggy\\_manager.py\", line 287, in load_setuptools_entrypoints\n",
      "    plugin = ep.load()\n",
      "  File \"C:\\Users\\hamdi.jarboui\\Anaconda3\\lib\\importlib\\metadata.py\", line 86, in load\n",
      "    module = import_module(match.group('module'))\n",
      "  File \"C:\\Users\\hamdi.jarboui\\Anaconda3\\lib\\importlib\\__init__.py\", line 127, in import_module\n",
      "    return _bootstrap._gcd_import(name[level:], package, level)\n",
      "  File \"<frozen importlib._bootstrap>\", line 1030, in _gcd_import\n",
      "  File \"<frozen importlib._bootstrap>\", line 1007, in _find_and_load\n",
      "  File \"<frozen importlib._bootstrap>\", line 972, in _find_and_load_unlocked\n",
      "  File \"<frozen importlib._bootstrap>\", line 228, in _call_with_frames_removed\n",
      "  File \"<frozen importlib._bootstrap>\", line 1030, in _gcd_import\n",
      "  File \"<frozen importlib._bootstrap>\", line 1007, in _find_and_load\n",
      "  File \"<frozen importlib._bootstrap>\", line 972, in _find_and_load_unlocked\n",
      "  File \"<frozen importlib._bootstrap>\", line 228, in _call_with_frames_removed\n",
      "  File \"<frozen importlib._bootstrap>\", line 1030, in _gcd_import\n",
      "  File \"<frozen importlib._bootstrap>\", line 1007, in _find_and_load\n",
      "  File \"<frozen importlib._bootstrap>\", line 986, in _find_and_load_unlocked\n",
      "  File \"<frozen importlib._bootstrap>\", line 680, in _load_unlocked\n",
      "  File \"C:\\Users\\hamdi.jarboui\\Anaconda3\\lib\\site-packages\\_pytest\\assertion\\rewrite.py\", line 168, in exec_module\n",
      "    exec(co, module.__dict__)\n",
      "  File \"C:\\Users\\hamdi.jarboui\\Anaconda3\\lib\\site-packages\\dash\\__init__.py\", line 5, in <module>\n",
      "    from .dash import Dash, no_update  # noqa: F401,E402\n",
      "  File \"C:\\Users\\hamdi.jarboui\\Anaconda3\\lib\\site-packages\\_pytest\\assertion\\rewrite.py\", line 168, in exec_module\n",
      "    exec(co, module.__dict__)\n",
      "  File \"C:\\Users\\hamdi.jarboui\\Anaconda3\\lib\\site-packages\\dash\\dash.py\", line 20, in <module>\n",
      "    import flask\n",
      "  File \"C:\\Users\\hamdi.jarboui\\Anaconda3\\lib\\site-packages\\flask\\__init__.py\", line 14, in <module>\n",
      "    from jinja2 import escape\n",
      "ImportError: cannot import name 'escape' from 'jinja2' (C:\\Users\\hamdi.jarboui\\Anaconda3\\lib\\site-packages\\jinja2\\__init__.py)\n"
     ]
    }
   ],
   "source": [
    "!pytest  \"C:\\Users\\hamdi.jarboui\\Desktop\\esys-flash-junit.xml\"  report.html"
   ]
  },
  {
   "cell_type": "code",
   "execution_count": null,
   "id": "ebe5f09d",
   "metadata": {},
   "outputs": [],
   "source": []
  }
 ],
 "metadata": {
  "kernelspec": {
   "display_name": "Python 3 (ipykernel)",
   "language": "python",
   "name": "python3"
  },
  "language_info": {
   "codemirror_mode": {
    "name": "ipython",
    "version": 3
   },
   "file_extension": ".py",
   "mimetype": "text/x-python",
   "name": "python",
   "nbconvert_exporter": "python",
   "pygments_lexer": "ipython3",
   "version": "3.9.12"
  }
 },
 "nbformat": 4,
 "nbformat_minor": 5
}
