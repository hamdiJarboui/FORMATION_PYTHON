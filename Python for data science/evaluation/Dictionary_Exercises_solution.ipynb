{
 "cells": [
  {
   "cell_type": "markdown",
   "id": "5db54a62",
   "metadata": {},
   "source": [
    "# Exercise 1: \n",
    "Write a program to check whether a given key exists in a dictionary or not.\n",
    "\n",
    "Hint\n",
    "Given dict = {‘0’:1, ‘1’:2, ‘2’:3}\n",
    "Input:\n",
    "Enter value to check: 2\n",
    "\n",
    "Expected output \n",
    "Result: True"
   ]
  },
  {
   "cell_type": "code",
   "execution_count": null,
   "id": "3ed2e550",
   "metadata": {},
   "outputs": [],
   "source": [
    "\n",
    "\n",
    "dict = {'0':1, '1':2, '2':3}\n",
    "x = input(\"Enter value to check \")\n",
    "\n",
    "if x in dict.keys():\n",
    "    print(True)\n",
    "else:\n",
    "    print(False)\n",
    "\n"
   ]
  },
  {
   "cell_type": "markdown",
   "id": "6aa7f5bd",
   "metadata": {},
   "source": [
    "# Exercise 2: \n",
    "Write a program to iterate over dictionary items using for loop.\n",
    "\n",
    "Hint\n",
    "dict = {0:”Value 1″, 1:”Value 2″}\n",
    "\n",
    "Expected output\n",
    "Value of key 0 is Value 1\n",
    "Value of key 1 is Value 2"
   ]
  },
  {
   "cell_type": "code",
   "execution_count": null,
   "id": "87b314ed",
   "metadata": {},
   "outputs": [],
   "source": [
    "\n",
    "\n",
    "# iteration using fr loop\n",
    "dict = {0:\"Value 1\", 1:\"Value 2\", 2:\"Value 3\"}\n",
    "\n",
    "for key, val in dict.items():\n",
    "    print(f\" Value of key {key} is {val}\")\n",
    "\n"
   ]
  },
  {
   "cell_type": "markdown",
   "id": "f0f39975",
   "metadata": {},
   "source": [
    "# Exercise 3: \n",
    "Write a program to print only keys of a dictionary.\n",
    "\n",
    "Hint \n",
    "dict = {0:”Value 1″, 1:”Value 2″, 2:”Value 3″}\n",
    "\n",
    "Expected output\n",
    "Result: dict_keys([0, 1, 2])"
   ]
  },
  {
   "cell_type": "code",
   "execution_count": null,
   "id": "d02904cb",
   "metadata": {},
   "outputs": [],
   "source": [
    "\n",
    "\n",
    "# print all the keys of dictionary\n",
    "dict = {0:\"Value 1\", 1:\"Value 2\", 2:\"Value 3\"}\n",
    "keys = dict.keys()\n",
    "\n",
    "# printing result\n",
    "print(keys)\n",
    "\n"
   ]
  },
  {
   "cell_type": "markdown",
   "id": "57604e15",
   "metadata": {},
   "source": [
    "# Exercise 4: \n",
    "Write a program to print values of dictionary.\n",
    "\n",
    "Hint \n",
    "dict = {0:”Value 1″, 1:”Value 2″, 2:”Value 3″}\n",
    "\n",
    "Expected output\n",
    "dict_values([‘Value 1’, ‘Value 2’, ‘Value 3’])"
   ]
  },
  {
   "cell_type": "code",
   "execution_count": null,
   "id": "8177e87d",
   "metadata": {},
   "outputs": [],
   "source": [
    "\n",
    "\n",
    "# print only values\n",
    "dict = {0:\"Value 1\", 1:\"Value 2\", 2:\"Value 3\"}\n",
    "val = dict.values()\n",
    "\n",
    "# printing result\n",
    "print(val)\n",
    "\n"
   ]
  },
  {
   "cell_type": "markdown",
   "id": "06c34648",
   "metadata": {},
   "source": [
    "# Exercise 5: \n",
    "Write a program in python to map 2 lists into a dictionary.\n",
    "\n",
    "Hint \n",
    "Given keys = [1,2,3] values = [‘Value 1’, ‘Value 2’, ‘Value 3’]\n",
    "\n",
    "Expected output\n",
    "{1: ‘Value 1’, 2: ‘Value 2’, 3: ‘Value 3’}"
   ]
  },
  {
   "cell_type": "code",
   "execution_count": null,
   "id": "d3517f77",
   "metadata": {},
   "outputs": [],
   "source": [
    "\n",
    "\n",
    "# Given two list convert it into dict\n",
    "keys = [1,2,3]\n",
    "values = ['Value 1', 'Value 2', 'Value 3']\n",
    "\n",
    "# zip function in dictionary\n",
    "dict = dict(zip(keys, values))\n",
    "\n",
    "# printing result\n",
    "print(dict)\n",
    "\n"
   ]
  },
  {
   "cell_type": "markdown",
   "id": "e04e9bd4",
   "metadata": {},
   "source": [
    "# Exercise 6: \n",
    "Python program to remove a set of keys.\n",
    "\n",
    "Note: If we remove the key of the dictionary then the respective values of the dictionary should also be deleted. This means there are no values that exist without keys.\n",
    "\n",
    "Hint \n",
    "Given:\n",
    "{0:”Value 1″, 1:”Value 2″, 2:”Value 3″}\n",
    "keys_to_remove = [0,1]\n",
    "\n",
    "Expected output\n",
    "Result : {2: ‘Value 3’}"
   ]
  },
  {
   "cell_type": "code",
   "execution_count": null,
   "id": "08e77f0c",
   "metadata": {},
   "outputs": [],
   "source": [
    "\n",
    "\n",
    "# delete a set of keys\n",
    "dict = {0:\"Value 1\", 1:\"Value 2\", 2:\"Value 3\"}\n",
    "keys_to_remove = [0,1]\n",
    "\n",
    "dict = { k: dict[k] for k in dict.keys() - keys_to_remove }\n",
    "print(dict)\n",
    "\n"
   ]
  },
  {
   "cell_type": "markdown",
   "id": "331417b5",
   "metadata": {},
   "source": [
    "# Exercise 7: \n",
    "Python program to sort dictionary by values (Ascending/ Descending).\n",
    "\n",
    "Hint \n",
    "Given\n",
    "d = {‘key 1’: 2, ‘key 2’: 3, ‘key 3’: 4}\n",
    "\n",
    "Expected output\n",
    "Ascending: [(‘key 1’, 2), (‘key 2’, 3), (‘key 3’, 4)] Descending: [(‘key 3’, 4), (‘key 2’, 3), (‘key 1’, 2)]"
   ]
  },
  {
   "cell_type": "code",
   "execution_count": null,
   "id": "54e5caad",
   "metadata": {},
   "outputs": [],
   "source": [
    "\n",
    "\n",
    "# Sort dictionary in ascending / descending\n",
    "import operator\n",
    "d = {'key 1': 2, 'key 2': 3, 'key 3': 4}\n",
    "print('Original dictionary : ',d)\n",
    "\n",
    "# in ascending\n",
    "sort_a = sorted(d.items(), key=operator.itemgetter(1))\n",
    "print('In Ascending by value : ',sort_a)\n",
    "\n",
    "# in descending\n",
    "sort_d = sorted(d.items(), key=operator.itemgetter(1), reverse=True)\n",
    "print('In Descending by value : ',sort_d)\n",
    "\n"
   ]
  },
  {
   "cell_type": "markdown",
   "id": "fc8d43de",
   "metadata": {},
   "source": [
    "# Exercise 8: \n",
    "Write a program to concatenate two dictionaries to create one.\n",
    "\n",
    "Hint \n",
    "Given\n",
    "dict1 = {‘key 1’: 2, ‘key 2’: 3}\n",
    "dict2 = {‘key 3’: 4, ‘key 4’: 5}\n",
    "\n",
    "Expected output\n",
    "{‘key 1’: 2, ‘key 2’: 3, ‘key 3’: 4, ‘key 4’: 5}"
   ]
  },
  {
   "cell_type": "code",
   "execution_count": null,
   "id": "9ba43618",
   "metadata": {},
   "outputs": [],
   "source": [
    "\n",
    "\n",
    "# Concatenate 2 dict to create one dict\n",
    "dict1 = {'key 1': 2, 'key 2': 3}\n",
    "dict2 = {'key 3': 4, 'key 4': 5}\n",
    "\n",
    "# updating dict1 with dict2 using update method\n",
    "dict1.update(dict2)\n",
    "\n",
    "# changes made to dict1\n",
    "# printing updated dict1\n",
    "print(dict1)\n",
    "\n"
   ]
  },
  {
   "cell_type": "markdown",
   "id": "15d48065",
   "metadata": {},
   "source": [
    "# Exercise 9: \n",
    "Write a program to sum all the values of a dictionary.\n",
    "\n",
    "Hint \n",
    "dict1 = {‘key 1’: 200, ‘key 2’: 300}\n",
    "\n",
    "Expected output\n",
    "Result: 500"
   ]
  },
  {
   "cell_type": "code",
   "execution_count": null,
   "id": "3a036cf5",
   "metadata": {},
   "outputs": [],
   "source": [
    "\n",
    "\n",
    "# Sum of dict values\n",
    "dict1 = {'key 1': 200, 'key 2': 300}\n",
    "x = []\n",
    "for i in dict1.values():\n",
    "    x.append(i)\n",
    "\n",
    "# printing result\n",
    "print(sum(x))\n",
    "\n"
   ]
  },
  {
   "cell_type": "markdown",
   "id": "ae5e7a8c",
   "metadata": {},
   "source": [
    "# Exercise 10: \n",
    "Write a program to get the maximum and minimum value of dictionary.\n",
    "\n",
    "Hint \n",
    "dict1 = {‘key 1’: 200, ‘key 2’: 300}\n",
    "\n",
    "Expected output\n",
    "Max: 300\n",
    "Min: 200"
   ]
  },
  {
   "cell_type": "code",
   "execution_count": null,
   "id": "b7c67dc2",
   "metadata": {},
   "outputs": [],
   "source": [
    "\n",
    "\n",
    "# min and max of dict - values\n",
    "dict1 = {'key 1': 200, 'key 2': 300}\n",
    "val = dict1.values()\n",
    "max = max(val)\n",
    "min = min(val)\n",
    "\n",
    "# printing result\n",
    "print(f\"{max} is maximum\")\n",
    "print(f\"{min} is mimimum\")\n",
    "\n"
   ]
  },
  {
   "cell_type": "markdown",
   "id": "6f2dd673",
   "metadata": {},
   "source": [
    "# Exercise 11: \n",
    "Write a program to check if a dictionary is empty or not.\n",
    "\n",
    "Hint \n",
    "Given dict1 = {}\n",
    "\n",
    "Expected output\n",
    "Is dictionary empty ? : True"
   ]
  },
  {
   "cell_type": "code",
   "execution_count": null,
   "id": "99f92be5",
   "metadata": {},
   "outputs": [],
   "source": [
    "\n",
    "\n",
    "# Dictionary is empty or not\n",
    "# initialize empty dictionary\n",
    "dict1 = {}\n",
    "\n",
    "# using boolean if dictionary is empty\n",
    "result = not bool(dict1)\n",
    "\n",
    "# printing result\n",
    "print(\"Is dictionary empty ? : \" + str(result))\n",
    "\n"
   ]
  },
  {
   "cell_type": "markdown",
   "id": "83ff21da",
   "metadata": {},
   "source": [
    "# Exercise 12: \n",
    "Write a program in Python to choose a random item from a list.\n",
    "\n",
    "Hint \n",
    "dict1 = {‘key 1’: 22, ‘key 2’: 301}\n",
    "#we are checking for 22 value\n",
    "\n",
    "Expected output\n",
    "Value exists in dictionary"
   ]
  },
  {
   "cell_type": "code",
   "execution_count": null,
   "id": "032f2076",
   "metadata": {},
   "outputs": [],
   "source": [
    "\n",
    "\n",
    "# value exist or not\n",
    "dict1 = {'key 1': 22, 'key 2': 301}\n",
    "val = dict1.values()\n",
    "\n",
    "if 22 in val:\n",
    "    print(\"Value exists in dictionary\")\n",
    "else:\n",
    "    print(\"Value does not exist\")\n",
    "\n",
    "# Sameway we can check for keys\n",
    "\n"
   ]
  },
  {
   "cell_type": "markdown",
   "id": "e8c265aa",
   "metadata": {},
   "source": [
    "# Exercise 13: \n",
    "Write a program to sort dictionary values in python.\n",
    "\n",
    "Hint \n",
    "dict1 = {\n",
    "‘key 1’: ‘Apple’, ‘key 2′:’Mango’,\n",
    "‘key 3′:’Papaya’\n",
    "}\n",
    "\n",
    "Expected output\n",
    "key 1: Apple\n",
    "key 2: Mango\n",
    "key 3: Papaya"
   ]
  },
  {
   "cell_type": "code",
   "execution_count": null,
   "id": "10af5ef0",
   "metadata": {},
   "outputs": [],
   "source": [
    "\n",
    "\n",
    "# Sorting dictionary by value\n",
    "dict1 = {\n",
    "         'key 1': 'Apple',\n",
    "         'key 2':'Mango',\n",
    "         'key 3':'Papaya'\n",
    "         }\n",
    "\n",
    "for key in sorted(dict1):\n",
    "    # printing result\n",
    "    print(\"%s : %s\" % (key, dict1[key]))\n",
    "\n"
   ]
  },
  {
   "cell_type": "markdown",
   "id": "61bd8fb1",
   "metadata": {},
   "source": [
    "# Exercise 14: \n",
    "Write a program to check whether a key exists in the dictionary or not.\n",
    "\n",
    "Hint \n",
    "dict1 = {‘key 1’: 22, ‘key 2’: 301}\n",
    "\n",
    "Expected output\n",
    "Key exists in dictionary"
   ]
  },
  {
   "cell_type": "code",
   "execution_count": null,
   "id": "2eb01f2e",
   "metadata": {},
   "outputs": [],
   "source": [
    "\n",
    "\n",
    "# key exist or not\n",
    "dict1 = {'key 1': 22, 'key 2': 301}\n",
    "val = dict1.keys()\n",
    "\n",
    "if 'key 2' in val:\n",
    "    print(\"Key exists in dictionary\")\n",
    "else:\n",
    "    print(\"Key does not exist\")\n",
    "\n",
    "#Sameway we can check for values\n",
    "\n"
   ]
  },
  {
   "cell_type": "markdown",
   "id": "569984bf",
   "metadata": {},
   "source": [
    "# Exercise 15: \n",
    "Write a program in python to map keys to dictionary.\n",
    "\n",
    "Hint \n",
    "key = [‘Fruit’, ‘Vegetable’] value = [‘Mango’,’Tomato’]\n",
    "\n",
    "Expected output\n",
    "{‘Fruit’: ‘Mango’, ‘Vegetable’: ‘Tomato’}"
   ]
  },
  {
   "cell_type": "code",
   "execution_count": null,
   "id": "216cb0d8",
   "metadata": {},
   "outputs": [],
   "source": [
    "\n",
    "\n",
    "# Mapping keys to dictionary\n",
    "key = ['Fruit', 'Vegetable']\n",
    "value = ['Mango','Tomato']\n",
    "\n",
    "dict1 = dict(zip(key, value))\n",
    "# printing result\n",
    "print(dict1)\n",
    "\n"
   ]
  }
 ],
 "metadata": {
  "kernelspec": {
   "display_name": "Python 3 (ipykernel)",
   "language": "python",
   "name": "python3"
  },
  "language_info": {
   "codemirror_mode": {
    "name": "ipython",
    "version": 3
   },
   "file_extension": ".py",
   "mimetype": "text/x-python",
   "name": "python",
   "nbconvert_exporter": "python",
   "pygments_lexer": "ipython3",
   "version": "3.9.12"
  }
 },
 "nbformat": 4,
 "nbformat_minor": 5
}
