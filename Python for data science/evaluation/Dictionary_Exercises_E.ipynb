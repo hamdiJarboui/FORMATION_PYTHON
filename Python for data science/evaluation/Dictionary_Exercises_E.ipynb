{
 "cells": [
  {
   "cell_type": "markdown",
   "id": "5db54a62",
   "metadata": {},
   "source": [
    "# Exercise 1: \n",
    "Write a program to check whether a given key exists in a dictionary or not.\n",
    "\n",
    "Hint\n",
    "Given dict = {‘0’:1, ‘1’:2, ‘2’:3}\n",
    "Input:\n",
    "Enter value to check: 2\n",
    "\n",
    "Expected output \n",
    "Result: True"
   ]
  },
  {
   "cell_type": "code",
   "execution_count": null,
   "id": "3ed2e550",
   "metadata": {},
   "outputs": [],
   "source": []
  },
  {
   "cell_type": "markdown",
   "id": "6aa7f5bd",
   "metadata": {},
   "source": [
    "# Exercise 2: \n",
    "Write a program to iterate over dictionary items using for loop.\n",
    "\n",
    "Hint\n",
    "dict = {0:”Value 1″, 1:”Value 2″}\n",
    "\n",
    "Expected output\n",
    "Value of key 0 is Value 1\n",
    "Value of key 1 is Value 2"
   ]
  },
  {
   "cell_type": "code",
   "execution_count": null,
   "id": "87b314ed",
   "metadata": {},
   "outputs": [],
   "source": []
  },
  {
   "cell_type": "markdown",
   "id": "f0f39975",
   "metadata": {},
   "source": [
    "# Exercise 3: \n",
    "Write a program to print only keys of a dictionary.\n",
    "\n",
    "Hint \n",
    "dict = {0:”Value 1″, 1:”Value 2″, 2:”Value 3″}\n",
    "\n",
    "Expected output\n",
    "Result: dict_keys([0, 1, 2])"
   ]
  },
  {
   "cell_type": "code",
   "execution_count": null,
   "id": "d02904cb",
   "metadata": {},
   "outputs": [],
   "source": []
  },
  {
   "cell_type": "markdown",
   "id": "57604e15",
   "metadata": {},
   "source": [
    "# Exercise 4: \n",
    "Write a program to print values of dictionary.\n",
    "\n",
    "Hint \n",
    "dict = {0:”Value 1″, 1:”Value 2″, 2:”Value 3″}\n",
    "\n",
    "Expected output\n",
    "dict_values([‘Value 1’, ‘Value 2’, ‘Value 3’])"
   ]
  },
  {
   "cell_type": "code",
   "execution_count": null,
   "id": "8177e87d",
   "metadata": {},
   "outputs": [],
   "source": []
  },
  {
   "cell_type": "markdown",
   "id": "06c34648",
   "metadata": {},
   "source": [
    "# Exercise 5: \n",
    "Write a program in python to map 2 lists into a dictionary.\n",
    "\n",
    "Hint \n",
    "Given keys = [1,2,3] values = [‘Value 1’, ‘Value 2’, ‘Value 3’]\n",
    "\n",
    "Expected output\n",
    "{1: ‘Value 1’, 2: ‘Value 2’, 3: ‘Value 3’}"
   ]
  },
  {
   "cell_type": "code",
   "execution_count": null,
   "id": "d3517f77",
   "metadata": {},
   "outputs": [],
   "source": []
  },
  {
   "cell_type": "markdown",
   "id": "e04e9bd4",
   "metadata": {},
   "source": [
    "# Exercise 6: \n",
    "Python program to remove a set of keys.\n",
    "\n",
    "Note: If we remove the key of the dictionary then the respective values of the dictionary should also be deleted. This means there are no values that exist without keys.\n",
    "\n",
    "Hint \n",
    "Given:\n",
    "{0:”Value 1″, 1:”Value 2″, 2:”Value 3″}\n",
    "keys_to_remove = [0,1]\n",
    "\n",
    "Expected output\n",
    "Result : {2: ‘Value 3’}"
   ]
  },
  {
   "cell_type": "code",
   "execution_count": null,
   "id": "08e77f0c",
   "metadata": {},
   "outputs": [],
   "source": []
  },
  {
   "cell_type": "markdown",
   "id": "331417b5",
   "metadata": {},
   "source": [
    "# Exercise 7: \n",
    "Python program to sort dictionary by values (Ascending/ Descending).\n",
    "\n",
    "Hint \n",
    "Given\n",
    "d = {‘key 1’: 2, ‘key 2’: 3, ‘key 3’: 4}\n",
    "\n",
    "Expected output\n",
    "Ascending: [(‘key 1’, 2), (‘key 2’, 3), (‘key 3’, 4)] Descending: [(‘key 3’, 4), (‘key 2’, 3), (‘key 1’, 2)]"
   ]
  },
  {
   "cell_type": "code",
   "execution_count": null,
   "id": "54e5caad",
   "metadata": {},
   "outputs": [],
   "source": []
  },
  {
   "cell_type": "markdown",
   "id": "fc8d43de",
   "metadata": {},
   "source": [
    "# Exercise 8: \n",
    "Write a program to concatenate two dictionaries to create one.\n",
    "\n",
    "Hint \n",
    "Given\n",
    "dict1 = {‘key 1’: 2, ‘key 2’: 3}\n",
    "dict2 = {‘key 3’: 4, ‘key 4’: 5}\n",
    "\n",
    "Expected output\n",
    "{‘key 1’: 2, ‘key 2’: 3, ‘key 3’: 4, ‘key 4’: 5}"
   ]
  },
  {
   "cell_type": "code",
   "execution_count": null,
   "id": "9ba43618",
   "metadata": {},
   "outputs": [],
   "source": []
  },
  {
   "cell_type": "markdown",
   "id": "15d48065",
   "metadata": {},
   "source": [
    "# Exercise 9: \n",
    "Write a program to sum all the values of a dictionary.\n",
    "\n",
    "Hint \n",
    "dict1 = {‘key 1’: 200, ‘key 2’: 300}\n",
    "\n",
    "Expected output\n",
    "Result: 500"
   ]
  },
  {
   "cell_type": "code",
   "execution_count": null,
   "id": "3a036cf5",
   "metadata": {},
   "outputs": [],
   "source": []
  },
  {
   "cell_type": "markdown",
   "id": "ae5e7a8c",
   "metadata": {},
   "source": [
    "# Exercise 10: \n",
    "Write a program to get the maximum and minimum value of dictionary.\n",
    "\n",
    "Hint \n",
    "dict1 = {‘key 1’: 200, ‘key 2’: 300}\n",
    "\n",
    "Expected output\n",
    "Max: 300\n",
    "Min: 200"
   ]
  },
  {
   "cell_type": "code",
   "execution_count": null,
   "id": "b7c67dc2",
   "metadata": {},
   "outputs": [],
   "source": []
  },
  {
   "cell_type": "markdown",
   "id": "6f2dd673",
   "metadata": {},
   "source": [
    "# Exercise 11: \n",
    "Write a program to check if a dictionary is empty or not.\n",
    "\n",
    "Hint \n",
    "Given dict1 = {}\n",
    "\n",
    "Expected output\n",
    "Is dictionary empty ? : True"
   ]
  },
  {
   "cell_type": "code",
   "execution_count": null,
   "id": "99f92be5",
   "metadata": {},
   "outputs": [],
   "source": []
  },
  {
   "cell_type": "markdown",
   "id": "83ff21da",
   "metadata": {},
   "source": [
    "# Exercise 12: \n",
    "Write a program in Python to choose a random item from a list.\n",
    "\n",
    "Hint \n",
    "dict1 = {‘key 1’: 22, ‘key 2’: 301}\n",
    "#we are checking for 22 value\n",
    "\n",
    "Expected output\n",
    "Value exists in dictionary"
   ]
  },
  {
   "cell_type": "code",
   "execution_count": null,
   "id": "032f2076",
   "metadata": {},
   "outputs": [],
   "source": []
  },
  {
   "cell_type": "markdown",
   "id": "e8c265aa",
   "metadata": {},
   "source": [
    "# Exercise 13: \n",
    "Write a program to sort dictionary values in python.\n",
    "\n",
    "Hint \n",
    "dict1 = {\n",
    "‘key 1’: ‘Apple’, ‘key 2′:’Mango’,\n",
    "‘key 3′:’Papaya’\n",
    "}\n",
    "\n",
    "Expected output\n",
    "key 1: Apple\n",
    "key 2: Mango\n",
    "key 3: Papaya"
   ]
  },
  {
   "cell_type": "code",
   "execution_count": null,
   "id": "10af5ef0",
   "metadata": {},
   "outputs": [],
   "source": []
  },
  {
   "cell_type": "markdown",
   "id": "61bd8fb1",
   "metadata": {},
   "source": [
    "# Exercise 14: \n",
    "Write a program to check whether a key exists in the dictionary or not.\n",
    "\n",
    "Hint \n",
    "dict1 = {‘key 1’: 22, ‘key 2’: 301}\n",
    "\n",
    "Expected output\n",
    "Key exists in dictionary"
   ]
  },
  {
   "cell_type": "code",
   "execution_count": null,
   "id": "2eb01f2e",
   "metadata": {},
   "outputs": [],
   "source": []
  },
  {
   "cell_type": "markdown",
   "id": "569984bf",
   "metadata": {},
   "source": [
    "# Exercise 15: \n",
    "Write a program in python to map keys to dictionary.\n",
    "\n",
    "Hint \n",
    "key = [‘Fruit’, ‘Vegetable’] value = [‘Mango’,’Tomato’]\n",
    "\n",
    "Expected output\n",
    "{‘Fruit’: ‘Mango’, ‘Vegetable’: ‘Tomato’}"
   ]
  },
  {
   "cell_type": "code",
   "execution_count": null,
   "id": "216cb0d8",
   "metadata": {},
   "outputs": [],
   "source": []
  }
 ],
 "metadata": {
  "kernelspec": {
   "display_name": "Python 3 (ipykernel)",
   "language": "python",
   "name": "python3"
  },
  "language_info": {
   "codemirror_mode": {
    "name": "ipython",
    "version": 3
   },
   "file_extension": ".py",
   "mimetype": "text/x-python",
   "name": "python",
   "nbconvert_exporter": "python",
   "pygments_lexer": "ipython3",
   "version": "3.9.12"
  }
 },
 "nbformat": 4,
 "nbformat_minor": 5
}
