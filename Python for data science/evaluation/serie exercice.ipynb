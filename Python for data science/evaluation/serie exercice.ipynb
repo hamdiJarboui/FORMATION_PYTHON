{
 "cells": [
  {
   "cell_type": "markdown",
   "id": "45c67024",
   "metadata": {},
   "source": [
    "# Exercice 1\n",
    "Ecrire un programme Python Sortie_inverse, qui saisit trois nombres dans un ordre donné et les\n",
    "affiche dans l’ordre opposé à l’entrée."
   ]
  },
  {
   "cell_type": "code",
   "execution_count": 3,
   "id": "f23de495",
   "metadata": {},
   "outputs": [
    {
     "name": "stdout",
     "output_type": "stream",
     "text": [
      "entrer un nombre > 0 : 1\n",
      "le nombre saisie = 1\n",
      "entrer un nombre > 0 : 2\n",
      "le nombre saisie = 2\n",
      "entrer un nombre > 0 : 3\n",
      "le nombre saisie = 3\n",
      "les nombre inversé sont  3 2 1\n"
     ]
    }
   ],
   "source": [
    "def saisir():\n",
    "    verif = True\n",
    "    while verif:\n",
    "        nombre = int(input(\"entrer un nombre > 0 : \"))\n",
    "        if nombre > 0:\n",
    "            verif = False\n",
    "            print(\"le nombre saisie =\", nombre)\n",
    "    return nombre\n",
    "\n",
    "def inverse():\n",
    "    nombr1=saisir()\n",
    "    nombr2=saisir()\n",
    "    nombr3=saisir()\n",
    "    print(\"les nombre inversé sont \",nombr3,nombr2,nombr1)\n",
    "inverse()"
   ]
  },
  {
   "cell_type": "markdown",
   "id": "efde8a76",
   "metadata": {},
   "source": [
    "# exercice 2 :\n",
    "Ecrire un programme Python intitulé Cylindre, qui calcule et affiche le volume d'un cylindre après\n",
    "saisie son rayon R et sa hauteur H.\n"
   ]
  },
  {
   "cell_type": "code",
   "execution_count": 6,
   "id": "5d3866ea",
   "metadata": {},
   "outputs": [
    {
     "name": "stdout",
     "output_type": "stream",
     "text": [
      "entrer l'hauteur: 0\n",
      "entrer l'hauteur: 3\n",
      "le hauteur saisie = 3\n",
      "entrer le rayon: 3\n",
      "le rayon saisie = 3\n",
      "le volume du cylindre =  84.78\n"
     ]
    }
   ],
   "source": [
    "def saisir_hauteur():\n",
    "    verif = True\n",
    "    while verif:\n",
    "        nombre = int(input(\"entrer l'hauteur: \"))\n",
    "        if nombre > 0:\n",
    "            verif = False\n",
    "            print(\"le hauteur saisie =\", nombre)\n",
    "    return nombre\n",
    "def saisir_rayon():\n",
    "    verif = True\n",
    "    while verif:\n",
    "        nombre = int(input(\"entrer le rayon: \"))\n",
    "        if nombre > 0:\n",
    "            verif = False\n",
    "            print(\"le rayon saisie =\", nombre)\n",
    "    return nombre\n",
    "\n",
    "def calcule_volume_cylindre(hauteur, rayon):\n",
    "    volume=3.14*(rayon**2)*hauteur\n",
    "    return volume \n",
    "\n",
    "def affichage(volume):\n",
    "    print(\"le volume du cylindre = \",volume)\n",
    "rayon=saisir_hauteur()\n",
    "hauteur=saisir_rayon()\n",
    "volume=calcule_volume_cylindre(hauteur, rayon)\n",
    "affichage(volume)"
   ]
  },
  {
   "cell_type": "markdown",
   "id": "bb4ee5f2",
   "metadata": {},
   "source": [
    "# exercice 3\n",
    "Ecrire un un programme Python intitulé Surface_Rectangle, qui calcule la surface d'un rectangle de\n",
    "dimensions données et affiche le résultat sous la forme\n",
    "suivante : \"La surface du rectangle dont la longueur mesure .... m et la largeur mesure .... m,\n",
    "a une surface égale à .... mètres carrés\"."
   ]
  },
  {
   "cell_type": "code",
   "execution_count": 8,
   "id": "b8a1eb0e",
   "metadata": {},
   "outputs": [
    {
     "name": "stdout",
     "output_type": "stream",
     "text": [
      "entrer la longueur: 5\n",
      "la longueur saisie = 5\n",
      "entrer la largeur: 4\n",
      "la largeur saisie = 4\n",
      "La surface du rectangle dont la longueur mesure  5  m et la largeur mesure  4  m, a une surface égale à  20  mètres carrés\n"
     ]
    }
   ],
   "source": [
    "def saisir_longueur():\n",
    "    verif = True\n",
    "    while verif:\n",
    "        nombre = int(input(\"entrer la longueur: \"))\n",
    "        if nombre > 0:\n",
    "            verif = False\n",
    "            print(\"la longueur saisie =\", nombre)\n",
    "    return nombre\n",
    "def saisir_largeur():\n",
    "    verif = True\n",
    "    while verif:\n",
    "        nombre = int(input(\"entrer la largeur: \"))\n",
    "        if nombre > 0:\n",
    "            verif = False\n",
    "            print(\"la largeur saisie =\", nombre)\n",
    "    return nombre\n",
    "\n",
    "def calcule_surface_rectangle(longueur, largeur):\n",
    "    surface=longueur*largeur\n",
    "    return surface \n",
    "\n",
    "def affichage(longueur, largeur,surface):\n",
    "    print(\"La surface du rectangle dont la longueur mesure \",longueur,\" m et la largeur mesure \",largeur,\" m, a une surface égale à \",surface,\" mètres carrés\")\n",
    "longueur=saisir_longueur()\n",
    "largeur=saisir_largeur()\n",
    "surface=calcule_surface_rectangle(longueur, largeur)\n",
    "affichage(longueur, largeur,surface)"
   ]
  },
  {
   "cell_type": "markdown",
   "id": "b67fbe15",
   "metadata": {},
   "source": [
    "# Exercice 4\n",
    "Ecrire un programme Python intitulé Piscine, qui lit les dimensions d'une piscine, et affiche son\n",
    "volume et la quantité d'eau nécessaire pour la remplir"
   ]
  },
  {
   "cell_type": "code",
   "execution_count": 11,
   "id": "4cfb0adf",
   "metadata": {},
   "outputs": [
    {
     "name": "stdout",
     "output_type": "stream",
     "text": [
      "entrer la longueur: 4\n",
      "la longueur saisie = 4\n",
      "entrer la largeur: 4\n",
      "la largeur saisie = 4\n",
      "entrer l'hauteur: 4\n",
      "le hauteur saisie = 4\n",
      "le volume du piscine = 64 et le volume nécissaire pour le remplir = 57.6\n"
     ]
    }
   ],
   "source": [
    "def saisir_hauteur():\n",
    "    verif = True\n",
    "    while verif:\n",
    "        nombre = int(input(\"entrer l'hauteur: \"))\n",
    "        if nombre > 0:\n",
    "            verif = False\n",
    "            print(\"le hauteur saisie =\", nombre)\n",
    "    return nombre\n",
    "\n",
    "def saisir_longueur():\n",
    "    verif = True\n",
    "    while verif:\n",
    "        nombre = int(input(\"entrer la longueur: \"))\n",
    "        if nombre > 0:\n",
    "            verif = False\n",
    "            print(\"la longueur saisie =\", nombre)\n",
    "    return nombre\n",
    "def saisir_largeur():\n",
    "    verif = True\n",
    "    while verif:\n",
    "        nombre = int(input(\"entrer la largeur: \"))\n",
    "        if nombre > 0:\n",
    "            verif = False\n",
    "            print(\"la largeur saisie =\", nombre)\n",
    "    return nombre\n",
    "def calcul_volume_picine(longueur, largeur, hauteur):\n",
    "    volume=longueur*largeur*hauteur\n",
    "    volume_necissair=volume-((volume*10)/100)\n",
    "    return volume, volume_necissair\n",
    "\n",
    "\n",
    "def affichage(volume, volume_necissair):\n",
    "    print(\"le volume du piscine =\",volume, \"et le volume nécissaire pour le remplir =\",volume_necissair)\n",
    "    \n",
    "longueur=saisir_longueur()\n",
    "largeur=saisir_largeur()\n",
    "hauteur=saisir_hauteur()\n",
    "volume, volume_necissair=calcul_volume_picine(longueur, largeur, hauteur)\n",
    "affichage(volume, volume_necissair)"
   ]
  },
  {
   "cell_type": "markdown",
   "id": "63da12ba",
   "metadata": {},
   "source": [
    "# Exercice 5\n",
    "Ecrire un programme Python intitulé Trapèze, qui lit les dimensions d'un trapèze et affiche sa\n",
    "surface"
   ]
  },
  {
   "cell_type": "code",
   "execution_count": 12,
   "id": "e2498459",
   "metadata": {},
   "outputs": [
    {
     "name": "stdout",
     "output_type": "stream",
     "text": [
      "entrer la grande base: 10\n",
      "la grande base saisie = 10\n",
      "entrer la petit base : 12\n",
      "la petit base saisie = 12\n",
      "entrer l'hauteur: 3\n",
      "le hauteur saisie = 3\n",
      "la surface du trapéze =  33.0\n"
     ]
    }
   ],
   "source": [
    "def saisir_hauteur():\n",
    "    verif = True\n",
    "    while verif:\n",
    "        nombre = int(input(\"entrer l'hauteur: \"))\n",
    "        if nombre > 0:\n",
    "            verif = False\n",
    "            print(\"le hauteur saisie =\", nombre)\n",
    "    return nombre\n",
    "\n",
    "def saisir_petit_base():\n",
    "    verif = True\n",
    "    while verif:\n",
    "        nombre = int(input(\"entrer la petit base : \"))\n",
    "        if nombre > 0:\n",
    "            verif = False\n",
    "            print(\"la petit base saisie =\", nombre)\n",
    "    return nombre\n",
    "def saisir_grande_base():\n",
    "    verif = True\n",
    "    while verif:\n",
    "        nombre = int(input(\"entrer la grande base: \"))\n",
    "        if nombre > 0:\n",
    "            verif = False\n",
    "            print(\"la grande base saisie =\", nombre)\n",
    "    return nombre\n",
    "\n",
    "def calcul_surface_trapéze(petit_base, grande_base,hauteur):\n",
    "    surface=((petit_base+grande_base)*hauteur)/2\n",
    "    return surface\n",
    "\n",
    "def affichage(surface):\n",
    "    print(\"la surface du trapéze = \",surface)\n",
    "           \n",
    "grande_base=saisir_grande_base()\n",
    "petit_base=saisir_petit_base()\n",
    "hauteur=saisir_hauteur()\n",
    "surface=calcul_surface_trapéze(petit_base, grande_base,hauteur)\n",
    "affichage(surface)"
   ]
  },
  {
   "cell_type": "code",
   "execution_count": null,
   "id": "3a1e9344",
   "metadata": {},
   "outputs": [],
   "source": []
  }
 ],
 "metadata": {
  "kernelspec": {
   "display_name": "Python 3 (ipykernel)",
   "language": "python",
   "name": "python3"
  },
  "language_info": {
   "codemirror_mode": {
    "name": "ipython",
    "version": 3
   },
   "file_extension": ".py",
   "mimetype": "text/x-python",
   "name": "python",
   "nbconvert_exporter": "python",
   "pygments_lexer": "ipython3",
   "version": "3.9.12"
  }
 },
 "nbformat": 4,
 "nbformat_minor": 5
}
