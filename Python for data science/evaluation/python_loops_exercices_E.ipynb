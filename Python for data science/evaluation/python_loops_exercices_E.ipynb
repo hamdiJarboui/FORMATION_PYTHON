{
 "cells": [
  {
   "cell_type": "markdown",
   "id": "c74e623a",
   "metadata": {},
   "source": [
    "# Exercise 1:\n",
    "Write a program in Python to display the Factorial of a number.\n",
    "\n",
    "Hint 1 \n",
    "Input : 5\n",
    "\n",
    "Expected output \n",
    "Factorial is 120\n",
    "\n",
    "Hint 1 \n",
    "Input : 6\n",
    "\n",
    "Expected output \n",
    "Factorial is 720"
   ]
  },
  {
   "cell_type": "code",
   "execution_count": 2,
   "id": "e0448cc8",
   "metadata": {},
   "outputs": [
    {
     "name": "stdout",
     "output_type": "stream",
     "text": [
      "120\n"
     ]
    }
   ],
   "source": [
    "number = 5\n",
    "fact = 1\n",
    "for i in range(1 , number + 1 ):\n",
    "    fact *=  i\n",
    "print(fact)\n"
   ]
  },
  {
   "cell_type": "code",
   "execution_count": 6,
   "id": "73ad5a65-fc13-4550-b976-6f083dd9fd71",
   "metadata": {},
   "outputs": [
    {
     "name": "stdout",
     "output_type": "stream",
     "text": [
      "120\n"
     ]
    }
   ],
   "source": [
    "number = 5\n",
    "fact = 1\n",
    "i = 1\n",
    "while i <= number :\n",
    "    fact *=  i\n",
    "    i += 1 \n",
    "print(fact)"
   ]
  },
  {
   "cell_type": "markdown",
   "id": "7a4e2822",
   "metadata": {},
   "source": [
    "# Exercise 2: \n",
    "Write a Python program to reverse a number.\n",
    "\n",
    "Hint 1 \n",
    "Input a number to reverse : 43521\n",
    "\n",
    "Expected output \n",
    "Result: 12534"
   ]
  },
  {
   "cell_type": "code",
   "execution_count": null,
   "id": "ecaf2b55",
   "metadata": {},
   "outputs": [],
   "source": [
    "reversed_number = 0\n",
    "while number > 0:\n",
    "    digit = number % 10\n",
    "    reversed_number = reversed_number * 10 + digit\n",
    "    number = number // 10"
   ]
  },
  {
   "cell_type": "markdown",
   "id": "2d240294",
   "metadata": {},
   "source": [
    "# Exercise 3: \n",
    "Write a program to print n natural number in descending order using a while loop.\n",
    "\n",
    "Hint 1 \n",
    "Enter a range : 10\n",
    "\n",
    "Expected output \n",
    "Result: 10  9  8  7  6  5  4  3  2  1"
   ]
  },
  {
   "cell_type": "code",
   "execution_count": null,
   "id": "200d7bb8",
   "metadata": {},
   "outputs": [],
   "source": [
    "\n"
   ]
  },
  {
   "cell_type": "markdown",
   "id": "8d33884a",
   "metadata": {},
   "source": [
    "# Exercise 4: \n",
    "Write a program to display the first 7 multiples of 7.\n",
    "\n",
    "Hint 1 \n",
    "Use if and for loop with break\n",
    "\n",
    "Expected output \n",
    "Result: 0  7  14  21  28  35  42  49"
   ]
  },
  {
   "cell_type": "code",
   "execution_count": null,
   "id": "aebd1000",
   "metadata": {},
   "outputs": [],
   "source": [
    "\n"
   ]
  },
  {
   "cell_type": "markdown",
   "id": "529453ce",
   "metadata": {},
   "source": [
    "# Exercise 5: \n",
    "Write a program that appends the square of each number to a new list.\n",
    "\n",
    "Hint 1 \n",
    "Given x = [2,3,4,5,6,7,8]\n",
    "\n",
    "Expected output \n",
    "Result: [4, 9, 16, 25, 36, 49, 64]"
   ]
  },
  {
   "cell_type": "code",
   "execution_count": null,
   "id": "db4c2f4f",
   "metadata": {},
   "outputs": [],
   "source": []
  },
  {
   "cell_type": "markdown",
   "id": "e72494ec",
   "metadata": {},
   "source": [
    "# Exercise 6: \n",
    "WAP to separate positive and negative number from a list.\n",
    "\n",
    "Hint 1 \n",
    "Given x = [23, 4, -6, 23, -9, 21, 3, -45, -8]\n",
    "\n",
    "Expected output \n",
    "Result:\n",
    "Positive: [23, 4, 23, 21, 3] Negative: [-6, -45, -9, -8]"
   ]
  },
  {
   "cell_type": "code",
   "execution_count": null,
   "id": "bc65390f",
   "metadata": {},
   "outputs": [],
   "source": [
    "\n"
   ]
  },
  {
   "cell_type": "markdown",
   "id": "8bb895c2",
   "metadata": {},
   "source": [
    "# Exercise 7: \n",
    "Write a program that appends the type of elements from a list.\n",
    "\n",
    "Hint 1 \n",
    "Given x = [23, ‘Python’, 23.98]\n",
    "\n",
    "Expected output \n",
    "Result:\n",
    "[<class ‘int’>,<class ‘str’>,<class ‘float’>]"
   ]
  },
  {
   "cell_type": "code",
   "execution_count": null,
   "id": "d214f3d7",
   "metadata": {},
   "outputs": [],
   "source": [
    "\n"
   ]
  },
  {
   "cell_type": "markdown",
   "id": "4b9e2053",
   "metadata": {},
   "source": [
    "# Exercise 8: \n",
    "Write a program to filter even and odd number from a list.\n",
    "\n",
    "Hint 1 \n",
    "Given x = [10, 23, 24, 35, 65, 78, 90]\n",
    "\n",
    "Expected output \n",
    "Even numbers: [10, 24, 78, 90] Odd numbers: [23, 35, 65]"
   ]
  },
  {
   "cell_type": "code",
   "execution_count": null,
   "id": "5c91b0aa",
   "metadata": {},
   "outputs": [],
   "source": []
  }
 ],
 "metadata": {
  "kernelspec": {
   "display_name": "Python 3 (ipykernel)",
   "language": "python",
   "name": "python3"
  },
  "language_info": {
   "codemirror_mode": {
    "name": "ipython",
    "version": 3
   },
   "file_extension": ".py",
   "mimetype": "text/x-python",
   "name": "python",
   "nbconvert_exporter": "python",
   "pygments_lexer": "ipython3",
   "version": "3.9.12"
  }
 },
 "nbformat": 4,
 "nbformat_minor": 5
}
