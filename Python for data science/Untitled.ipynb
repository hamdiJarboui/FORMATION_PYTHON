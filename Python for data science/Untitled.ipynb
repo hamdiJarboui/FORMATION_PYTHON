{
 "cells": [
  {
   "cell_type": "code",
   "execution_count": 1,
   "id": "4dcb6cb2-8c3e-43a6-a609-56a0c18f0a21",
   "metadata": {},
   "outputs": [
    {
     "name": "stdout",
     "output_type": "stream",
     "text": [
      "hello world\n"
     ]
    }
   ],
   "source": [
    "print(\"hello world\")"
   ]
  },
  {
   "cell_type": "code",
   "execution_count": 19,
   "id": "e010ec24-9af0-43af-89c7-74eb8d884508",
   "metadata": {},
   "outputs": [
    {
     "name": "stdout",
     "output_type": "stream",
     "text": [
      "\n",
      "----------------------------------------------------------------------\n",
      "    - mail adress : nawres.Herch@gmail.com\n",
      "    - age : 25\n",
      "----------------------------------------------------------------------\n",
      "\n",
      "\n"
     ]
    }
   ],
   "source": [
    "name = \"nawres\"\n",
    "last_name =\"Herch\"\n",
    "age =25\n",
    "message = f\"\"\"\n",
    "----------------------------------------------------------------------\n",
    "    - mail adress : {name}.{last_name}@gmail.com\n",
    "    - age : {age}\n",
    "----------------------------------------------------------------------\n",
    "\n",
    "\"\"\"\n",
    "\n",
    "print(message)\n"
   ]
  },
  {
   "cell_type": "code",
   "execution_count": 20,
   "id": "9a04cee8-7759-43d6-a61b-97619e950e7b",
   "metadata": {},
   "outputs": [
    {
     "name": "stdin",
     "output_type": "stream",
     "text": [
      "entreé le nombre des minutes 250\n"
     ]
    },
    {
     "name": "stdout",
     "output_type": "stream",
     "text": [
      "\n",
      "----------------------------------------------------------------------\n",
      " - mnombre heures entré = 250\n",
      " - nomreb minute = 4\n",
      " - nombre heures =  10\n",
      "----------------------------------------------------------------------\n",
      "\n",
      "\n"
     ]
    }
   ],
   "source": [
    "nomnre_minute = int(input(\"entreé le nombre des minutes\"))\n",
    "nombre_heure = nomnre_minute // 60\n",
    "nombre_heures_restant = nomnre_minute % 60\n",
    "message = f\"\"\"\n",
    "----------------------------------------------------------------------\n",
    " - mnombre heures entré = {nomnre_minute}\n",
    " - nomreb minute = {nombre_heure}\n",
    " - nombre heures =  {nombre_heures_restant}\n",
    "----------------------------------------------------------------------\n",
    "\n",
    "\"\"\"\n",
    "print(message)"
   ]
  },
  {
   "cell_type": "code",
   "execution_count": null,
   "id": "03ea3d64-de3d-4d20-b708-5d8357124f10",
   "metadata": {},
   "outputs": [],
   "source": []
  }
 ],
 "metadata": {
  "kernelspec": {
   "display_name": "Python 3 (ipykernel)",
   "language": "python",
   "name": "python3"
  },
  "language_info": {
   "codemirror_mode": {
    "name": "ipython",
    "version": 3
   },
   "file_extension": ".py",
   "mimetype": "text/x-python",
   "name": "python",
   "nbconvert_exporter": "python",
   "pygments_lexer": "ipython3",
   "version": "3.9.12"
  }
 },
 "nbformat": 4,
 "nbformat_minor": 5
}
