{
 "cells": [
  {
   "cell_type": "code",
   "execution_count": 1,
   "id": "95fe5163",
   "metadata": {},
   "outputs": [],
   "source": [
    "x = 5 "
   ]
  },
  {
   "cell_type": "code",
   "execution_count": 2,
   "id": "45d31eab",
   "metadata": {},
   "outputs": [
    {
     "data": {
      "text/plain": [
       "5"
      ]
     },
     "execution_count": 2,
     "metadata": {},
     "output_type": "execute_result"
    }
   ],
   "source": [
    "x"
   ]
  },
  {
   "cell_type": "code",
   "execution_count": 3,
   "id": "d8e69f10",
   "metadata": {},
   "outputs": [
    {
     "data": {
      "text/plain": [
       "['ahmed', 'sami', 'hamdi', 'ameni', 'nour', 'ali']"
      ]
     },
     "execution_count": 3,
     "metadata": {},
     "output_type": "execute_result"
    }
   ],
   "source": [
    "names_list = ['ahmed','sami','hamdi','ameni','nour','ali']\n",
    "names_list"
   ]
  },
  {
   "cell_type": "code",
   "execution_count": 4,
   "id": "ff469a4c",
   "metadata": {},
   "outputs": [
    {
     "data": {
      "text/plain": [
       "'ahmed'"
      ]
     },
     "execution_count": 4,
     "metadata": {},
     "output_type": "execute_result"
    }
   ],
   "source": [
    "names_list[0]"
   ]
  },
  {
   "cell_type": "code",
   "execution_count": 5,
   "id": "0754696b",
   "metadata": {},
   "outputs": [
    {
     "data": {
      "text/plain": [
       "'ali'"
      ]
     },
     "execution_count": 5,
     "metadata": {},
     "output_type": "execute_result"
    }
   ],
   "source": [
    "names_list[-1]"
   ]
  },
  {
   "cell_type": "code",
   "execution_count": 6,
   "id": "6b3e5ddb",
   "metadata": {},
   "outputs": [
    {
     "data": {
      "text/plain": [
       "'hamdi'"
      ]
     },
     "execution_count": 6,
     "metadata": {},
     "output_type": "execute_result"
    }
   ],
   "source": [
    "names_list[2]"
   ]
  },
  {
   "cell_type": "code",
   "execution_count": 7,
   "id": "ce8cd55a",
   "metadata": {},
   "outputs": [
    {
     "data": {
      "text/plain": [
       "['ahmed', 'sami']"
      ]
     },
     "execution_count": 7,
     "metadata": {},
     "output_type": "execute_result"
    }
   ],
   "source": [
    "names_list[0:2]"
   ]
  },
  {
   "cell_type": "code",
   "execution_count": 8,
   "id": "c9c844fc",
   "metadata": {},
   "outputs": [
    {
     "data": {
      "text/plain": [
       "['sami', 'hamdi', 'ameni']"
      ]
     },
     "execution_count": 8,
     "metadata": {},
     "output_type": "execute_result"
    }
   ],
   "source": [
    "names_list[1:4]"
   ]
  },
  {
   "cell_type": "code",
   "execution_count": 9,
   "id": "cffee6cb",
   "metadata": {},
   "outputs": [
    {
     "data": {
      "text/plain": [
       "['ahmed', 'hamdi', 'nour']"
      ]
     },
     "execution_count": 9,
     "metadata": {},
     "output_type": "execute_result"
    }
   ],
   "source": [
    "names_list[0:5:2]"
   ]
  },
  {
   "cell_type": "code",
   "execution_count": 10,
   "id": "016f214d",
   "metadata": {},
   "outputs": [
    {
     "data": {
      "text/plain": [
       "['ahmed', 'hamdi', 'nour']"
      ]
     },
     "execution_count": 10,
     "metadata": {},
     "output_type": "execute_result"
    }
   ],
   "source": [
    "names_list[::2]"
   ]
  },
  {
   "cell_type": "code",
   "execution_count": 11,
   "id": "b28945ca",
   "metadata": {},
   "outputs": [
    {
     "data": {
      "text/plain": [
       "['ali', 'nour', 'ameni', 'hamdi', 'sami', 'ahmed']"
      ]
     },
     "execution_count": 11,
     "metadata": {},
     "output_type": "execute_result"
    }
   ],
   "source": [
    "names_list[-1::-1]\n"
   ]
  },
  {
   "cell_type": "code",
   "execution_count": 12,
   "id": "e74da3aa",
   "metadata": {},
   "outputs": [
    {
     "data": {
      "text/plain": [
       "['ali', 'sami']"
      ]
     },
     "execution_count": 12,
     "metadata": {},
     "output_type": "execute_result"
    }
   ],
   "source": [
    "names_list[-1::-4]\n"
   ]
  },
  {
   "cell_type": "code",
   "execution_count": 13,
   "id": "aa23f8b9",
   "metadata": {},
   "outputs": [
    {
     "data": {
      "text/plain": [
       "['ahmed', 'sami', 'hamdi', 'ameni', 'nour', 'ali', 'samah']"
      ]
     },
     "execution_count": 13,
     "metadata": {},
     "output_type": "execute_result"
    }
   ],
   "source": [
    "names_list.append('samah')\n",
    "names_list"
   ]
  },
  {
   "cell_type": "code",
   "execution_count": 14,
   "id": "171b45ff",
   "metadata": {},
   "outputs": [
    {
     "data": {
      "text/plain": [
       "['ahmed', 'sami', 'samah', 'hamdi', 'ameni', 'nour', 'ali', 'samah']"
      ]
     },
     "execution_count": 14,
     "metadata": {},
     "output_type": "execute_result"
    }
   ],
   "source": [
    "names_list.insert(2,'samah')\n",
    "names_list"
   ]
  },
  {
   "cell_type": "code",
   "execution_count": 15,
   "id": "628db243",
   "metadata": {},
   "outputs": [
    {
     "data": {
      "text/plain": [
       "'samah'"
      ]
     },
     "execution_count": 15,
     "metadata": {},
     "output_type": "execute_result"
    }
   ],
   "source": [
    "names_list.pop(-1)"
   ]
  },
  {
   "cell_type": "code",
   "execution_count": 16,
   "id": "44a8c9c0",
   "metadata": {},
   "outputs": [
    {
     "data": {
      "text/plain": [
       "['ahmed', 'sami', 'hamdi', 'ameni', 'nour', 'ali']"
      ]
     },
     "execution_count": 16,
     "metadata": {},
     "output_type": "execute_result"
    }
   ],
   "source": [
    "names_list.pop(2)\n",
    "names_list"
   ]
  },
  {
   "cell_type": "code",
   "execution_count": 17,
   "id": "89aaa754",
   "metadata": {},
   "outputs": [],
   "source": [
    "names_list.remove('ameni')"
   ]
  },
  {
   "cell_type": "code",
   "execution_count": 18,
   "id": "1f6554cd",
   "metadata": {},
   "outputs": [
    {
     "data": {
      "text/plain": [
       "['ahmed', 'sami', 'hamdi', 'nour', 'ali']"
      ]
     },
     "execution_count": 18,
     "metadata": {},
     "output_type": "execute_result"
    }
   ],
   "source": [
    "names_list"
   ]
  },
  {
   "cell_type": "code",
   "execution_count": 19,
   "id": "f7ab4b99",
   "metadata": {},
   "outputs": [],
   "source": [
    "name_list2 = ['samah','ameni']"
   ]
  },
  {
   "cell_type": "code",
   "execution_count": 20,
   "id": "1e6f94f6",
   "metadata": {},
   "outputs": [
    {
     "data": {
      "text/plain": [
       "['ahmed', 'sami', 'hamdi', 'nour', 'ali', 'samah', 'ameni']"
      ]
     },
     "execution_count": 20,
     "metadata": {},
     "output_type": "execute_result"
    }
   ],
   "source": [
    "names_list.extend(name_list2)\n",
    "names_list"
   ]
  },
  {
   "cell_type": "code",
   "execution_count": 21,
   "id": "f7de717e",
   "metadata": {},
   "outputs": [
    {
     "data": {
      "text/plain": [
       "['ahmed', 'sami', 'hamdi', 'nour', 'ali', 'samah', 'ameni', 'samah', 'ameni']"
      ]
     },
     "execution_count": 21,
     "metadata": {},
     "output_type": "execute_result"
    }
   ],
   "source": [
    "names_list3 = names_list + name_list2\n",
    "names_list3"
   ]
  },
  {
   "cell_type": "code",
   "execution_count": 22,
   "id": "7ba01085",
   "metadata": {},
   "outputs": [
    {
     "data": {
      "text/plain": [
       "6"
      ]
     },
     "execution_count": 22,
     "metadata": {},
     "output_type": "execute_result"
    }
   ],
   "source": [
    "names_list.index('ameni')"
   ]
  },
  {
   "cell_type": "code",
   "execution_count": 23,
   "id": "ca6c0208",
   "metadata": {},
   "outputs": [
    {
     "data": {
      "text/plain": [
       "['ahmed', 'sami', 'hamdi', 'nour', 'ali', 'samah', 'ameni']"
      ]
     },
     "execution_count": 23,
     "metadata": {},
     "output_type": "execute_result"
    }
   ],
   "source": [
    "name_list_copy = names_list.copy()\n",
    "name_list_copy\n"
   ]
  },
  {
   "cell_type": "code",
   "execution_count": 24,
   "id": "82f70067",
   "metadata": {},
   "outputs": [
    {
     "data": {
      "text/plain": [
       "['ahmed', 'sami', 'hamdi', 'nour', 'ali', 'samah', 'ameni']"
      ]
     },
     "execution_count": 24,
     "metadata": {},
     "output_type": "execute_result"
    }
   ],
   "source": [
    "name_list_copy = names_list[:]\n",
    "name_list_copy\n"
   ]
  },
  {
   "cell_type": "code",
   "execution_count": 25,
   "id": "c8162cba",
   "metadata": {},
   "outputs": [],
   "source": [
    "name_list_copy2 = names_list"
   ]
  },
  {
   "cell_type": "code",
   "execution_count": 26,
   "id": "7ffe3ae6",
   "metadata": {},
   "outputs": [
    {
     "data": {
      "text/plain": [
       "['bouhmid', 'sami', 'hamdi', 'nour', 'ali', 'samah', 'ameni']"
      ]
     },
     "execution_count": 26,
     "metadata": {},
     "output_type": "execute_result"
    }
   ],
   "source": [
    "name_list_copy2[0] = 'bouhmid'\n",
    "names_list"
   ]
  },
  {
   "cell_type": "code",
   "execution_count": 27,
   "id": "b4aabb4e",
   "metadata": {},
   "outputs": [
    {
     "data": {
      "text/plain": [
       "['bouhmid', 'sami', 'hamdi', 'nour', 'ali', 'samah', 'ameni']"
      ]
     },
     "execution_count": 27,
     "metadata": {},
     "output_type": "execute_result"
    }
   ],
   "source": [
    "name_list_copy[1] = 'samsoum'\n",
    "names_list"
   ]
  },
  {
   "cell_type": "code",
   "execution_count": 28,
   "id": "b8b5cf15",
   "metadata": {},
   "outputs": [
    {
     "data": {
      "text/plain": [
       "['bouhmid', 'sami', 'hamdi', 'nour', 'ali', 'samah', 'ameni']"
      ]
     },
     "execution_count": 28,
     "metadata": {},
     "output_type": "execute_result"
    }
   ],
   "source": [
    "name_list_copy.reverse()\n",
    "names_list"
   ]
  },
  {
   "cell_type": "code",
   "execution_count": 29,
   "id": "a6d994e0",
   "metadata": {},
   "outputs": [
    {
     "data": {
      "text/plain": [
       "['ali', 'ameni', 'bouhmid', 'hamdi', 'nour', 'samah', 'sami']"
      ]
     },
     "execution_count": 29,
     "metadata": {},
     "output_type": "execute_result"
    }
   ],
   "source": [
    "sorted(names_list,reverse=False)"
   ]
  },
  {
   "cell_type": "code",
   "execution_count": 30,
   "id": "41a1772e",
   "metadata": {},
   "outputs": [
    {
     "data": {
      "text/plain": [
       "7"
      ]
     },
     "execution_count": 30,
     "metadata": {},
     "output_type": "execute_result"
    }
   ],
   "source": [
    "len(names_list)"
   ]
  },
  {
   "cell_type": "code",
   "execution_count": 31,
   "id": "bc053df7",
   "metadata": {},
   "outputs": [
    {
     "name": "stdout",
     "output_type": "stream",
     "text": [
      "['bouhmid', 'sami', 'hamdi', 'nour', 'ali', 'samah', 'ameni']\n"
     ]
    }
   ],
   "source": [
    "print(names_list)"
   ]
  },
  {
   "cell_type": "code",
   "execution_count": 32,
   "id": "e43486c6",
   "metadata": {},
   "outputs": [
    {
     "data": {
      "text/plain": [
       "['bouhmid', 'sami', 'hamdi', 'nour']"
      ]
     },
     "execution_count": 32,
     "metadata": {},
     "output_type": "execute_result"
    }
   ],
   "source": [
    "names_list[:4]"
   ]
  },
  {
   "cell_type": "code",
   "execution_count": 33,
   "id": "b98fa492",
   "metadata": {},
   "outputs": [],
   "source": [
    "names_list[0] = 'samsousm'"
   ]
  },
  {
   "cell_type": "code",
   "execution_count": 42,
   "id": "ba7ac24f",
   "metadata": {},
   "outputs": [
    {
     "data": {
      "text/plain": [
       "['samsousm', 'sami', 'hamdi', 'nour', 'ali', 'samah', 'ameni']"
      ]
     },
     "execution_count": 42,
     "metadata": {},
     "output_type": "execute_result"
    }
   ],
   "source": [
    "names_list"
   ]
  },
  {
   "cell_type": "code",
   "execution_count": 34,
   "id": "62989bfb",
   "metadata": {},
   "outputs": [],
   "source": [
    "names_tuple = ('ahmed','sami','hamdi','ameni','nour','ali')"
   ]
  },
  {
   "cell_type": "code",
   "execution_count": 35,
   "id": "aa8f0f02",
   "metadata": {},
   "outputs": [],
   "source": [
    "a , b = (1 , 2)"
   ]
  },
  {
   "cell_type": "code",
   "execution_count": 36,
   "id": "5db4dc12",
   "metadata": {},
   "outputs": [
    {
     "data": {
      "text/plain": [
       "1"
      ]
     },
     "execution_count": 36,
     "metadata": {},
     "output_type": "execute_result"
    }
   ],
   "source": [
    "a"
   ]
  },
  {
   "cell_type": "code",
   "execution_count": 37,
   "id": "a6f3ddd1",
   "metadata": {},
   "outputs": [
    {
     "data": {
      "text/plain": [
       "2"
      ]
     },
     "execution_count": 37,
     "metadata": {},
     "output_type": "execute_result"
    }
   ],
   "source": [
    "b"
   ]
  },
  {
   "cell_type": "code",
   "execution_count": 38,
   "id": "5e9016a8",
   "metadata": {},
   "outputs": [],
   "source": [
    "a =  1 ,2 , 5 , 10 , 2 "
   ]
  },
  {
   "cell_type": "code",
   "execution_count": 39,
   "id": "1f4e6a93",
   "metadata": {},
   "outputs": [
    {
     "data": {
      "text/plain": [
       "tuple"
      ]
     },
     "execution_count": 39,
     "metadata": {},
     "output_type": "execute_result"
    }
   ],
   "source": [
    "type(a)"
   ]
  },
  {
   "cell_type": "code",
   "execution_count": 40,
   "id": "0dd49929",
   "metadata": {},
   "outputs": [],
   "source": [
    "b = sorted(a, reverse = True)"
   ]
  },
  {
   "cell_type": "code",
   "execution_count": 41,
   "id": "808de2a1",
   "metadata": {},
   "outputs": [
    {
     "data": {
      "text/plain": [
       "[10, 5, 2, 2, 1]"
      ]
     },
     "execution_count": 41,
     "metadata": {},
     "output_type": "execute_result"
    }
   ],
   "source": [
    "b"
   ]
  },
  {
   "cell_type": "code",
   "execution_count": 43,
   "id": "d2599c8a",
   "metadata": {},
   "outputs": [],
   "source": [
    "name = 'ameni abid'"
   ]
  },
  {
   "cell_type": "code",
   "execution_count": 45,
   "id": "abb2c42d",
   "metadata": {},
   "outputs": [],
   "source": [
    "names_list = name.split(' ')"
   ]
  },
  {
   "cell_type": "code",
   "execution_count": 47,
   "id": "f91c5275",
   "metadata": {},
   "outputs": [],
   "source": [
    "names_list.append('ben moncef')"
   ]
  },
  {
   "cell_type": "code",
   "execution_count": 48,
   "id": "6276b604",
   "metadata": {},
   "outputs": [
    {
     "data": {
      "text/plain": [
       "['ameni', 'abid', 'ben moncef']"
      ]
     },
     "execution_count": 48,
     "metadata": {},
     "output_type": "execute_result"
    }
   ],
   "source": [
    "names_list"
   ]
  },
  {
   "cell_type": "code",
   "execution_count": 51,
   "id": "7c2c5782",
   "metadata": {},
   "outputs": [
    {
     "data": {
      "text/plain": [
       "'ameni,abid,ben moncef'"
      ]
     },
     "execution_count": 51,
     "metadata": {},
     "output_type": "execute_result"
    }
   ],
   "source": [
    "','.join(names_list)"
   ]
  },
  {
   "cell_type": "code",
   "execution_count": null,
   "id": "f637b830",
   "metadata": {},
   "outputs": [],
   "source": []
  }
 ],
 "metadata": {
  "kernelspec": {
   "display_name": "Python 3 (ipykernel)",
   "language": "python",
   "name": "python3"
  },
  "language_info": {
   "codemirror_mode": {
    "name": "ipython",
    "version": 3
   },
   "file_extension": ".py",
   "mimetype": "text/x-python",
   "name": "python",
   "nbconvert_exporter": "python",
   "pygments_lexer": "ipython3",
   "version": "3.9.12"
  }
 },
 "nbformat": 4,
 "nbformat_minor": 5
}
