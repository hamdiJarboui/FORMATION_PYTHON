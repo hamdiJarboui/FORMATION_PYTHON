{
 "cells": [
  {
   "cell_type": "code",
   "execution_count": 13,
   "id": "060d3e1c",
   "metadata": {},
   "outputs": [
    {
     "name": "stdout",
     "output_type": "stream",
     "text": [
      "majid\n",
      "moha\n",
      "yous\n",
      "abd\n"
     ]
    }
   ],
   "source": [
    "x=3\n",
    "nameslist=[\"majid\",\"moha\",\"yous\",\"abd\"]\n",
    "for name in nameslist:\n",
    "    print (name)\n",
    "     "
   ]
  },
  {
   "cell_type": "code",
   "execution_count": 19,
   "id": "ffcdd914",
   "metadata": {},
   "outputs": [
    {
     "name": "stdout",
     "output_type": "stream",
     "text": [
      "maj 0\n",
      "moh 1\n",
      "you 2\n",
      "abd 3\n"
     ]
    }
   ],
   "source": [
    "\n",
    "nameliste=[\"maj\",\"moh\",\"you\",\"abd\"]\n",
    "for name,index in enumerate(nameliste):\n",
    "    print(index,name)"
   ]
  },
  {
   "cell_type": "code",
   "execution_count": 20,
   "id": "3b57cfec",
   "metadata": {},
   "outputs": [
    {
     "name": "stdout",
     "output_type": "stream",
     "text": [
      "entre un nommokoko\n",
      "entre un nomlklk\n",
      "entre un nomikiki\n"
     ]
    }
   ],
   "source": [
    "nameliste=[]\n",
    "for i in range(0,3): \n",
    "    name=input('entre un nom')\n",
    "    nameliste.append(name)\n"
   ]
  },
  {
   "cell_type": "code",
   "execution_count": 41,
   "id": "5450d682",
   "metadata": {},
   "outputs": [
    {
     "name": "stdout",
     "output_type": "stream",
     "text": [
      "[1, 2, 3, [4, 5, 6]]\n"
     ]
    }
   ],
   "source": [
    "l1=[1,2,3]\n",
    "l2=[4,5,6]\n",
    "l1.append(l2)\n",
    "print(l1)"
   ]
  },
  {
   "cell_type": "code",
   "execution_count": 47,
   "id": "defc2691",
   "metadata": {},
   "outputs": [
    {
     "name": "stdout",
     "output_type": "stream",
     "text": [
      "6\n"
     ]
    }
   ],
   "source": [
    "print(l1[3][2])"
   ]
  },
  {
   "cell_type": "code",
   "execution_count": 54,
   "id": "75bdc095",
   "metadata": {},
   "outputs": [
    {
     "name": "stdout",
     "output_type": "stream",
     "text": [
      "[0, 2, 4, 6, 8, 10]\n",
      "[1, 3, 5, 7, 9]\n"
     ]
    }
   ],
   "source": [
    "impair=[]\n",
    "pair=[]\n",
    "for i in range(0,11):\n",
    "    if i%2==0:\n",
    "        pair.append(i)\n",
    "    else:\n",
    "        impair.append(i)\n",
    "print(pair)\n",
    "print(impair)"
   ]
  },
  {
   "cell_type": "code",
   "execution_count": 55,
   "id": "c4f1653c",
   "metadata": {},
   "outputs": [
    {
     "name": "stdout",
     "output_type": "stream",
     "text": [
      "30\n"
     ]
    }
   ],
   "source": [
    "somme = 0\n",
    "for number in pair : \n",
    "   somme+= number\n",
    "print(somme)\n"
   ]
  },
  {
   "cell_type": "code",
   "execution_count": 56,
   "id": "805c1f0f",
   "metadata": {},
   "outputs": [
    {
     "name": "stdout",
     "output_type": "stream",
     "text": [
      "25\n"
     ]
    }
   ],
   "source": [
    "somme = 0\n",
    "for number in impair : \n",
    "   somme+= number\n",
    "print(somme)"
   ]
  },
  {
   "cell_type": "code",
   "execution_count": 60,
   "id": "f341b3ab",
   "metadata": {},
   "outputs": [
    {
     "name": "stdout",
     "output_type": "stream",
     "text": [
      "30\n"
     ]
    }
   ],
   "source": [
    "somme = 0\n",
    "for number in  pair:\n",
    "   somme+= number\n",
    "print(somme)    "
   ]
  },
  {
   "cell_type": "code",
   "execution_count": 61,
   "id": "2080f1b8",
   "metadata": {},
   "outputs": [
    {
     "name": "stdout",
     "output_type": "stream",
     "text": [
      "25\n"
     ]
    }
   ],
   "source": [
    "somme = 0\n",
    "for number in  impair:\n",
    "   somme+= number\n",
    "print(somme)    "
   ]
  },
  {
   "cell_type": "code",
   "execution_count": 77,
   "id": "4c687391",
   "metadata": {},
   "outputs": [
    {
     "name": "stdout",
     "output_type": "stream",
     "text": [
      "[]\n"
     ]
    }
   ],
   "source": [
    "l1=[1,2,3,4,9,6,7,8,9]\n",
    "\n",
    "l1=[]\n",
    "print(l1)"
   ]
  },
  {
   "cell_type": "code",
   "execution_count": 78,
   "id": "314ed7cd",
   "metadata": {},
   "outputs": [
    {
     "ename": "ModuleNotFoundError",
     "evalue": "No module named 'moviepy'",
     "output_type": "error",
     "traceback": [
      "\u001b[1;31m---------------------------------------------------------------------------\u001b[0m",
      "\u001b[1;31mModuleNotFoundError\u001b[0m                       Traceback (most recent call last)",
      "\u001b[1;32m~\\AppData\\Local\\Temp/ipykernel_14736/2588439121.py\u001b[0m in \u001b[0;36m<module>\u001b[1;34m\u001b[0m\n\u001b[1;32m----> 1\u001b[1;33m \u001b[1;32mimport\u001b[0m \u001b[0mmoviepy\u001b[0m\u001b[1;33m.\u001b[0m\u001b[0meditor\u001b[0m \u001b[1;32mas\u001b[0m \u001b[0mmoviepy\u001b[0m\u001b[1;33m\u001b[0m\u001b[1;33m\u001b[0m\u001b[0m\n\u001b[0m",
      "\u001b[1;31mModuleNotFoundError\u001b[0m: No module named 'moviepy'"
     ]
    }
   ],
   "source": [
    "\n",
    "import moviepy.editor as moviepy"
   ]
  },
  {
   "cell_type": "code",
   "execution_count": null,
   "id": "eca905ff",
   "metadata": {},
   "outputs": [],
   "source": []
  }
 ],
 "metadata": {
  "kernelspec": {
   "display_name": "Python 3 (ipykernel)",
   "language": "python",
   "name": "python3"
  },
  "language_info": {
   "codemirror_mode": {
    "name": "ipython",
    "version": 3
   },
   "file_extension": ".py",
   "mimetype": "text/x-python",
   "name": "python",
   "nbconvert_exporter": "python",
   "pygments_lexer": "ipython3",
   "version": "3.9.7"
  }
 },
 "nbformat": 4,
 "nbformat_minor": 5
}
