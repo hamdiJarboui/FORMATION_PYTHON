{
 "cells": [
  {
   "cell_type": "code",
   "execution_count": 1,
   "id": "e4538e97",
   "metadata": {},
   "outputs": [
    {
     "name": "stdout",
     "output_type": "stream",
     "text": [
      "['line 1\\n', 'line 2\\n', 'line 3\\n', 'line 4\\n', 'line 5\\n', 'line 6']\n"
     ]
    }
   ],
   "source": [
    "file_path = r\"C:\\Users\\hamdi.jarboui\\FORMATION_PYTHON\\Python for data science\\Module 4 - Working with Data in Python\\Example1.txt\"\n",
    "with open(file_path, \"r\") as file1:\n",
    "    fileaslist = file1.readlines()\n",
    "print(fileaslist)\n"
   ]
  },
  {
   "cell_type": "code",
   "execution_count": 2,
   "id": "7c801bdd",
   "metadata": {},
   "outputs": [
    {
     "name": "stdout",
     "output_type": "stream",
     "text": [
      "this is line A\n",
      "\n",
      "this is line B\n",
      "\n",
      "this is line C\n",
      "\n"
     ]
    }
   ],
   "source": [
    "lines = [\"this is line A\\n\", \"this is line B\\n\", \"this is line C\\n\"]\n",
    "lines\n",
    "with open ('Example2.txt','w') as writefile:\n",
    "    for line in lines : \n",
    "        print(line)\n",
    "        writefile.write(line)"
   ]
  },
  {
   "cell_type": "code",
   "execution_count": 12,
   "id": "d9c07d9e",
   "metadata": {},
   "outputs": [
    {
     "name": "stdout",
     "output_type": "stream",
     "text": [
      "4\n"
     ]
    }
   ],
   "source": [
    "\n",
    "def somme () :\n",
    "    x = 1\n",
    "    y = 3 \n",
    "    z = x+y\n",
    "    print(z)\n",
    "somme ()\n"
   ]
  },
  {
   "cell_type": "code",
   "execution_count": 13,
   "id": "42103756",
   "metadata": {},
   "outputs": [
    {
     "name": "stdout",
     "output_type": "stream",
     "text": [
      "10\n"
     ]
    }
   ],
   "source": [
    "def somme (x,y) :\n",
    "    z = x+y\n",
    "    return z\n",
    "somme (x=4,y=6)\n"
   ]
  },
  {
   "cell_type": "code",
   "execution_count": null,
   "id": "8bb55c15",
   "metadata": {},
   "outputs": [],
   "source": []
  },
  {
   "cell_type": "code",
   "execution_count": 16,
   "id": "c47558bc",
   "metadata": {},
   "outputs": [
    {
     "name": "stdout",
     "output_type": "stream",
     "text": [
      "12\n"
     ]
    }
   ],
   "source": [
    "def multiplication(x,y) : \n",
    "    z = x*y\n",
    "    return z\n",
    "multiplication (x=6,y=2)\n"
   ]
  },
  {
   "cell_type": "code",
   "execution_count": 15,
   "id": "44a2dd10",
   "metadata": {},
   "outputs": [
    {
     "name": "stdout",
     "output_type": "stream",
     "text": [
      "-2\n"
     ]
    }
   ],
   "source": [
    "def soustraction(x,y) :\n",
    "    z = x-y\n",
    "    return z\n",
    "soustraction (x=4,y=6)\n"
   ]
  },
  {
   "cell_type": "code",
   "execution_count": 19,
   "id": "075b1090",
   "metadata": {},
   "outputs": [
    {
     "data": {
      "text/plain": [
       "3.0"
      ]
     },
     "execution_count": 19,
     "metadata": {},
     "output_type": "execute_result"
    }
   ],
   "source": [
    "def division (x,y) :\n",
    "    z = x/y\n",
    "    return z \n",
    "division (x=6,y=2)\n"
   ]
  },
  {
   "cell_type": "code",
   "execution_count": null,
   "id": "fd2b6ccf",
   "metadata": {},
   "outputs": [],
   "source": [
    "def puissance(x,y):\n",
    "    z= xy\n",
    "    return z \n",
    "puissance (x=4,y=2)"
   ]
  },
  {
   "cell_type": "code",
   "execution_count": null,
   "id": "b7a8fc84",
   "metadata": {},
   "outputs": [],
   "source": [
    "def affichage_menu():\n",
    "    menu = \"\"\"\n",
    "    --------------------------------------------------------------------------------------------\n",
    "    |   entrer votre choix:\n",
    "    |   -1 addition\n",
    "    |   -2 soustraction \n",
    "    |   -3 multiplication \n",
    "    |   -4 division\n",
    "    |   -5 puissance \n",
    "    --------------------------------------------------------------------------------------------\n",
    "    \"\"\"\n",
    "    print(menu)\n",
    "def saisir_choix    "
   ]
  }
 ],
 "metadata": {
  "kernelspec": {
   "display_name": "Python 3 (ipykernel)",
   "language": "python",
   "name": "python3"
  },
  "language_info": {
   "codemirror_mode": {
    "name": "ipython",
    "version": 3
   },
   "file_extension": ".py",
   "mimetype": "text/x-python",
   "name": "python",
   "nbconvert_exporter": "python",
   "pygments_lexer": "ipython3",
   "version": "3.9.12"
  }
 },
 "nbformat": 4,
 "nbformat_minor": 5
}
