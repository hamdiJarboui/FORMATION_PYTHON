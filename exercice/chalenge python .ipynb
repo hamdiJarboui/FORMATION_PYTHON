{
 "cells": [
  {
   "cell_type": "markdown",
   "id": "1bae58c1",
   "metadata": {},
   "source": [
    "# Basics"
   ]
  },
  {
   "cell_type": "markdown",
   "id": "3a2c0323",
   "metadata": {},
   "source": [
    "https://www.hackerrank.com/challenges/python-arithmetic-operators/problem?isFullScreen=true&h_r=next-challenge&h_v=zen&h_r=next-challenge&h_v=zen"
   ]
  },
  {
   "cell_type": "code",
   "execution_count": null,
   "id": "dea0858c",
   "metadata": {},
   "outputs": [],
   "source": [
    "if __name__ == '__main__':\n",
    "    a = int(input())\n",
    "    b = int(input())\n",
    "    print(a+b)\n",
    "    print(a-b)\n",
    "    print(a*b)"
   ]
  },
  {
   "cell_type": "markdown",
   "id": "3e2726b5",
   "metadata": {},
   "source": [
    "https://www.hackerrank.com/challenges/python-print/problem?isFullScreen=true"
   ]
  },
  {
   "cell_type": "code",
   "execution_count": null,
   "id": "d8619532",
   "metadata": {},
   "outputs": [],
   "source": [
    "if __name__ == '__main__':\n",
    "    n = int(input())\n",
    "   \n",
    "    for i in range(1,n+1):\n",
    "        print(i, end='')"
   ]
  },
  {
   "cell_type": "markdown",
   "id": "44ddb790",
   "metadata": {},
   "source": [
    "# If Else challenge \n",
    "https://www.hackerrank.com/challenges/py-if-else/problem?isFullScreen=true&h_r=next-challenge&h_v=zen"
   ]
  },
  {
   "cell_type": "code",
   "execution_count": null,
   "id": "5eeda83b",
   "metadata": {},
   "outputs": [],
   "source": [
    "#!/bin/python3\n",
    "\n",
    "import math\n",
    "import os\n",
    "import random\n",
    "import re\n",
    "import sys\n",
    "\n",
    "n = int(input())\n",
    "if n % 2 == 1:\n",
    "    print(\"Weird\")\n",
    "elif n % 2 == 0 and 2 <= n <= 5:\n",
    "    print(\"Not Weird\")\n",
    "elif n % 2 == 0 and 6 <= n <= 20:\n",
    "    print(\"Weird\")\n",
    "else:\n",
    "    print(\"Not Weird\")\n",
    "\n"
   ]
  },
  {
   "cell_type": "markdown",
   "id": "5ef38505",
   "metadata": {},
   "source": [
    "# BAsic data types \n"
   ]
  },
  {
   "cell_type": "markdown",
   "id": "1f566014",
   "metadata": {},
   "source": [
    "# list"
   ]
  },
  {
   "cell_type": "markdown",
   "id": "ac04a048",
   "metadata": {},
   "source": [
    "https://www.hackerrank.com/challenges/python-lists/problem?isFullScreen=true"
   ]
  },
  {
   "cell_type": "code",
   "execution_count": null,
   "id": "5934714a",
   "metadata": {},
   "outputs": [],
   "source": [
    "if __name__ == '__main__':\n",
    "    N = int(input())\n",
    "    L=[];\n",
    "    for i in range(0,N):\n",
    "        cmd=input().split();\n",
    "        if cmd[0] == \"insert\":\n",
    "            L.insert(int(cmd[1]),int(cmd[2]))\n",
    "        elif cmd[0] == \"append\":\n",
    "            L.append(int(cmd[1]))\n",
    "        elif cmd[0] == \"pop\":\n",
    "            L.pop();\n",
    "        elif cmd[0] == \"print\":\n",
    "            print(L)\n",
    "        elif cmd[0] == \"remove\":\n",
    "            L.remove(int(cmd[1]))\n",
    "        elif cmd[0] == \"sort\":\n",
    "            L.sort();\n",
    "        else:\n",
    "            L.reverse();"
   ]
  },
  {
   "cell_type": "markdown",
   "id": "244a43e2",
   "metadata": {},
   "source": [
    "# nested list \n"
   ]
  },
  {
   "cell_type": "markdown",
   "id": "3f4b369b",
   "metadata": {},
   "source": [
    "https://www.hackerrank.com/challenges/nested-list/problem?isFullScreen=true"
   ]
  },
  {
   "cell_type": "code",
   "execution_count": null,
   "id": "f0b4ead5",
   "metadata": {},
   "outputs": [],
   "source": [
    "Result =[]\n",
    "scorelist = []\n",
    "\n",
    "if __name__ == '__main__':\n",
    "    for _ in range(int(input())):\n",
    "        name = input()\n",
    "        score = float(input())\n",
    "        Result+=[[name,score]]\n",
    "        scorelist+=[score]\n",
    "    b=sorted(list(set(scorelist)))[1] \n",
    "\n",
    "    for a,c in sorted(Result):\n",
    "        if c==b:\n",
    "            print(a)"
   ]
  },
  {
   "cell_type": "markdown",
   "id": "d3f11003",
   "metadata": {},
   "source": [
    "# tuple"
   ]
  },
  {
   "cell_type": "markdown",
   "id": "8a36f4df",
   "metadata": {},
   "source": [
    "https://www.hackerrank.com/challenges/python-tuples/problem?isFullScreen=true"
   ]
  },
  {
   "cell_type": "code",
   "execution_count": null,
   "id": "1b064788",
   "metadata": {},
   "outputs": [],
   "source": [
    "if __name__ == '__main__':\n",
    "    n = int(input())\n",
    "    integer_list = map(int, input().split())\n",
    "    print(hash(tuple(integer_list)))"
   ]
  },
  {
   "cell_type": "code",
   "execution_count": null,
   "id": "45bca21a",
   "metadata": {},
   "outputs": [],
   "source": []
  },
  {
   "cell_type": "code",
   "execution_count": null,
   "id": "6d5f73cc",
   "metadata": {},
   "outputs": [],
   "source": []
  },
  {
   "cell_type": "code",
   "execution_count": null,
   "id": "ed91020e",
   "metadata": {},
   "outputs": [],
   "source": []
  },
  {
   "cell_type": "code",
   "execution_count": null,
   "id": "82c9da21",
   "metadata": {},
   "outputs": [],
   "source": []
  },
  {
   "cell_type": "code",
   "execution_count": null,
   "id": "494eb900",
   "metadata": {},
   "outputs": [],
   "source": []
  },
  {
   "cell_type": "code",
   "execution_count": null,
   "id": "19827605",
   "metadata": {},
   "outputs": [],
   "source": []
  },
  {
   "cell_type": "code",
   "execution_count": 9,
   "id": "033ba5d9",
   "metadata": {},
   "outputs": [
    {
     "name": "stdout",
     "output_type": "stream",
     "text": [
      "['append', '5']\n"
     ]
    }
   ],
   "source": []
  },
  {
   "cell_type": "code",
   "execution_count": null,
   "id": "7bfaee24",
   "metadata": {},
   "outputs": [],
   "source": []
  }
 ],
 "metadata": {
  "kernelspec": {
   "display_name": "Python 3 (ipykernel)",
   "language": "python",
   "name": "python3"
  },
  "language_info": {
   "codemirror_mode": {
    "name": "ipython",
    "version": 3
   },
   "file_extension": ".py",
   "mimetype": "text/x-python",
   "name": "python",
   "nbconvert_exporter": "python",
   "pygments_lexer": "ipython3",
   "version": "3.9.12"
  }
 },
 "nbformat": 4,
 "nbformat_minor": 5
}
