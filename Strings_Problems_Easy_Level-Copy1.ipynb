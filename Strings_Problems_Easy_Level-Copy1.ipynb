{
 "cells": [
  {
   "cell_type": "markdown",
   "id": "1cbdbe78",
   "metadata": {},
   "source": [
    "# Strings Problems Easy Level\n"
   ]
  },
  {
   "cell_type": "markdown",
   "id": "19cd2bcd",
   "metadata": {},
   "source": [
    "# Valid Palindrome\n"
   ]
  },
  {
   "cell_type": "markdown",
   "id": "1620b482",
   "metadata": {},
   "source": [
    "A phrase is a palindrome if, after converting all uppercase letters into lowercase letters and removing all non-alphanumeric characters, it reads the same forward and backward. Alphanumeric characters include letters and numbers.\n",
    "\n",
    "Given a string s, return true if it is a palindrome, or false otherwise.\n",
    "\n",
    " \n",
    "\n",
    "Example 1:\n",
    "\n",
    "Input: s = \"A man, a plan, a canal: Panama\"\n",
    "Output: true\n",
    "Explanation: \"amanaplanacanalpanama\" is a palindrome.\n",
    "\n",
    "Example 2:\n",
    "\n",
    "Input: s = \"race a car\"\n",
    "Output: false\n",
    "Explanation: \"raceacar\" is not a palindrome.\n",
    "\n",
    "Example 3:\n",
    "\n",
    "Input: s = \" \"\n",
    "Output: true\n",
    "Explanation: s is an empty string \"\" after removing non-alphanumeric characters.\n",
    "Since an empty string reads the same forward and backward, it is a palindrome.\n",
    "\n",
    " \n",
    "\n",
    "Constraints:\n",
    "\n",
    "    1 <= s.length <= 2 * 105\n",
    "    s consists only of printable ASCII characters.\n",
    "\n"
   ]
  },
  {
   "cell_type": "code",
   "execution_count": 14,
   "id": "8cd813a3",
   "metadata": {},
   "outputs": [
    {
     "name": "stdout",
     "output_type": "stream",
     "text": [
      "the sentence A man, a plan, a canal: Panama is palindrome\n",
      "the sentence race a car is palindrome\n",
      "the sentence   is palindrome\n",
      "the sentence radar is palindrome\n"
     ]
    }
   ],
   "source": [
    "def is_palindrome(sentense):\n",
    "    # Convert the string to lowercase and remove non-alphanumeric characters\n",
    "    alphabets_list = []\n",
    "    for char in sentense : \n",
    "        if char.isalpha():\n",
    "            alphabets_list.append(char.lower())\n",
    "    cleaned_sentense = ''.join(alphabets_list)\n",
    "    # Check if the cleaned string is equal to its reverse\n",
    "    if cleaned_sentense == cleaned_sentense[::-1]:\n",
    "        is_palindrome = True\n",
    "    else :\n",
    "        is_palindrome = False\n",
    "    return is_palindrome\n",
    "\n",
    "def show_result(is_palindrome, sentence):\n",
    "    if is_palindrome:\n",
    "        print(f\"the sentence {sentence} is palindrome\")\n",
    "    else :\n",
    "        print(f\"the sentence {sentence} is not palindrome\")\n",
    "        \n",
    "# Example 1\n",
    "s1 = \"A man, a plan, a canal: Panama\"\n",
    "result = is_palindrome(s1)\n",
    "show_result(is_palindrome, s1)\n",
    "\n",
    "# Example 2\n",
    "s2 = \"race a car\"\n",
    "result = is_palindrome(s2)\n",
    "show_result(is_palindrome, s2)\n",
    "\n",
    "# Example 3\n",
    "s3 = \" \"\n",
    "result = is_palindrome(s3)\n",
    "show_result(is_palindrome, s3)\n",
    "\n",
    "# Example 4\n",
    "s4 = \"radar\"\n",
    "result = is_palindrome(s4)\n",
    "show_result(is_palindrome, s4)\n"
   ]
  },
  {
   "cell_type": "markdown",
   "id": "dd0814e8",
   "metadata": {},
   "source": [
    "# Valid Parentheses\n"
   ]
  },
  {
   "cell_type": "markdown",
   "id": "dc5fb68c",
   "metadata": {},
   "source": [
    "Given a string s containing just the characters '(', ')', '{', '}', '[' and ']', determine if the input string is valid.\n",
    "\n",
    "An input string is valid if:\n",
    "\n",
    "    Open brackets must be closed by the same type of brackets.\n",
    "    Open brackets must be closed in the correct order.\n",
    "    Every close bracket has a corresponding open bracket of the same type.\n",
    "\n",
    " \n",
    "\n",
    "Example 1:\n",
    "\n",
    "Input: s = \"()\"\n",
    "Output: true\n",
    "\n",
    "Example 2:\n",
    "\n",
    "Input: s = \"()[]{}\"\n",
    "Output: true\n",
    "\n",
    "Example 3:\n",
    "\n",
    "Input: s = \"(]\"\n",
    "Output: false\n",
    "\n",
    " \n",
    "\n",
    "Constraints:\n",
    "\n",
    "    1 <= s.length <= 104\n",
    "    s consists of parentheses only '()[]{}'.\n",
    "\n"
   ]
  },
  {
   "cell_type": "code",
   "execution_count": 2,
   "id": "36a211f1",
   "metadata": {},
   "outputs": [
    {
     "name": "stdout",
     "output_type": "stream",
     "text": [
      "True\n",
      "True\n",
      "False\n"
     ]
    }
   ],
   "source": [
    "def isValid(s):\n",
    "    stack = []\n",
    "    bracket_map = {')': '(', '}': '{', ']': '['}\n",
    "\n",
    "    for char in s:\n",
    "        if char in bracket_map.values():\n",
    "            stack.append(char)\n",
    "        elif char in bracket_map.keys():\n",
    "            if not stack or stack.pop() != bracket_map[char]:\n",
    "                return False\n",
    "        else:\n",
    "            # Invalid character\n",
    "            return False\n",
    "\n",
    "    # Check if the stack is empty (all open brackets are closed)\n",
    "    return not stack\n",
    "\n",
    "# Example 1\n",
    "s1 = \"()\"\n",
    "print(isValid(s1))  # Output: True\n",
    "\n",
    "# Example 2\n",
    "s2 = \"()[]{}\"\n",
    "print(isValid(s2))  # Output: True\n",
    "\n",
    "# Example 3\n",
    "s3 = \"(]\"\n",
    "print(isValid(s3))  # Output: False\n"
   ]
  },
  {
   "cell_type": "markdown",
   "id": "745eebc7",
   "metadata": {},
   "source": [
    "# Find the Index of the First Occurrence in a String\n"
   ]
  },
  {
   "cell_type": "markdown",
   "id": "2180f236",
   "metadata": {},
   "source": [
    "Given two strings needle and haystack, return the index of the first occurrence of needle in haystack, or -1 if needle is not part of haystack.\n",
    "\n",
    " \n",
    "\n",
    "Example 1:\n",
    "\n",
    "Input: haystack = \"sadbutsad\", needle = \"sad\"\n",
    "Output: 0\n",
    "Explanation: \"sad\" occurs at index 0 and 6.\n",
    "The first occurrence is at index 0, so we return 0.\n",
    "\n",
    "Example 2:\n",
    "\n",
    "Input: haystack = \"leetcode\", needle = \"leeto\"\n",
    "Output: -1\n",
    "Explanation: \"leeto\" did not occur in \"leetcode\", so we return -1.\n",
    "\n",
    " \n",
    "\n",
    "Constraints:\n",
    "\n",
    "    1 <= haystack.length, needle.length <= 104\n",
    "    haystack and needle consist of only lowercase English characters.\n",
    "\n"
   ]
  },
  {
   "cell_type": "code",
   "execution_count": 3,
   "id": "40d5e136",
   "metadata": {},
   "outputs": [
    {
     "name": "stdout",
     "output_type": "stream",
     "text": [
      "0\n",
      "-1\n"
     ]
    }
   ],
   "source": [
    "def strStr(haystack, needle):\n",
    "    if needle == \"\":\n",
    "        return 0\n",
    "\n",
    "    for i in range(len(haystack) - len(needle) + 1):\n",
    "        if haystack[i:i+len(needle)] == needle:\n",
    "            return i\n",
    "\n",
    "    return -1\n",
    "\n",
    "# Example 1\n",
    "haystack1 = \"sadbutsad\"\n",
    "needle1 = \"sad\"\n",
    "print(strStr(haystack1, needle1))  # Output: 0\n",
    "\n",
    "# Example 2\n",
    "haystack2 = \"leetcode\"\n",
    "needle2 = \"leeto\"\n",
    "print(strStr(haystack2, needle2))  # Output: -1\n"
   ]
  },
  {
   "cell_type": "markdown",
   "id": "33c6854a",
   "metadata": {},
   "source": [
    "# Roman to Integer\n"
   ]
  },
  {
   "cell_type": "markdown",
   "id": "e7d6c1df",
   "metadata": {},
   "source": [
    "Roman numerals are represented by seven different symbols: I, V, X, L, C, D and M.\n",
    "\n",
    "Symbol       Value\n",
    "I             1\n",
    "V             5\n",
    "X             10\n",
    "L             50\n",
    "C             100\n",
    "D             500\n",
    "M             1000\n",
    "\n",
    "For example, 2 is written as II in Roman numeral, just two ones added together. 12 is written as XII, which is simply X + II. The number 27 is written as XXVII, which is XX + V + II.\n",
    "\n",
    "Roman numerals are usually written largest to smallest from left to right. However, the numeral for four is not IIII. Instead, the number four is written as IV. Because the one is before the five we subtract it making four. The same principle applies to the number nine, which is written as IX. There are six instances where subtraction is used:\n",
    "\n",
    "    I can be placed before V (5) and X (10) to make 4 and 9. \n",
    "    X can be placed before L (50) and C (100) to make 40 and 90. \n",
    "    C can be placed before D (500) and M (1000) to make 400 and 900.\n",
    "\n",
    "Given a roman numeral, convert it to an integer.\n",
    "\n",
    " \n",
    "\n",
    "Example 1:\n",
    "\n",
    "Input: s = \"III\"\n",
    "Output: 3\n",
    "Explanation: III = 3.\n",
    "\n",
    "Example 2:\n",
    "\n",
    "Input: s = \"LVIII\"\n",
    "Output: 58\n",
    "Explanation: L = 50, V= 5, III = 3.\n",
    "\n",
    "Example 3:\n",
    "\n",
    "Input: s = \"MCMXCIV\"\n",
    "Output: 1994\n",
    "Explanation: M = 1000, CM = 900, XC = 90 and IV = 4.\n",
    "\n",
    " \n",
    "\n",
    "Constraints:\n",
    "\n",
    "    1 <= s.length <= 15\n",
    "    s contains only the characters ('I', 'V', 'X', 'L', 'C', 'D', 'M').\n",
    "    It is guaranteed that s is a valid roman numeral in the range [1, 3999].\n",
    "\n"
   ]
  },
  {
   "cell_type": "code",
   "execution_count": 4,
   "id": "ded3713f",
   "metadata": {},
   "outputs": [
    {
     "name": "stdout",
     "output_type": "stream",
     "text": [
      "3\n",
      "58\n",
      "1994\n"
     ]
    }
   ],
   "source": [
    "def romanToInt(s):\n",
    "    roman_values = {'I': 1, 'V': 5, 'X': 10, 'L': 50, 'C': 100, 'D': 500, 'M': 1000}\n",
    "    result = 0\n",
    "    prev_value = 0\n",
    "\n",
    "    for char in reversed(s):\n",
    "        current_value = roman_values[char]\n",
    "\n",
    "        if current_value < prev_value:\n",
    "            result -= current_value\n",
    "        else:\n",
    "            result += current_value\n",
    "\n",
    "        prev_value = current_value\n",
    "\n",
    "    return result\n",
    "\n",
    "# Example 1\n",
    "s1 = \"III\"\n",
    "print(romanToInt(s1))  # Output: 3\n",
    "\n",
    "# Example 2\n",
    "s2 = \"LVIII\"\n",
    "print(romanToInt(s2))  # Output: 58\n",
    "\n",
    "# Example 3\n",
    "s3 = \"MCMXCIV\"\n",
    "print(romanToInt(s3))  # Output: 1994\n"
   ]
  },
  {
   "cell_type": "markdown",
   "id": "7dbfede6",
   "metadata": {},
   "source": [
    "# Excel Sheet Column Number\n"
   ]
  },
  {
   "cell_type": "markdown",
   "id": "3174fc55",
   "metadata": {},
   "source": [
    "Given a string columnTitle that represents the column title as appears in an Excel sheet, return its corresponding column number.\n",
    "\n",
    "For example:\n",
    "\n",
    "A -> 1\n",
    "B -> 2\n",
    "C -> 3\n",
    "...\n",
    "Z -> 26\n",
    "AA -> 27\n",
    "AB -> 28 \n",
    "...\n",
    "\n",
    " \n",
    "\n",
    "Example 1:\n",
    "\n",
    "Input: columnTitle = \"A\"\n",
    "Output: 1\n",
    "\n",
    "Example 2:\n",
    "\n",
    "Input: columnTitle = \"AB\"\n",
    "Output: 28\n",
    "\n",
    "Example 3:\n",
    "\n",
    "Input: columnTitle = \"ZY\"\n",
    "Output: 701\n",
    "\n",
    " \n",
    "\n",
    "Constraints:\n",
    "\n",
    "    1 <= columnTitle.length <= 7\n",
    "    columnTitle consists only of uppercase English letters.\n",
    "    columnTitle is in the range [\"A\", \"FXSHRXW\"].\n",
    "\n"
   ]
  },
  {
   "cell_type": "code",
   "execution_count": 1,
   "id": "eb15dc73",
   "metadata": {},
   "outputs": [
    {
     "name": "stdout",
     "output_type": "stream",
     "text": [
      "1\n",
      "28\n",
      "29\n",
      "701\n"
     ]
    }
   ],
   "source": [
    "def titleToNumber(columnTitle):\n",
    "    result = 0\n",
    "\n",
    "    for char in columnTitle:\n",
    "        result = result * 26 + (ord(char) - ord('A') + 1)\n",
    "\n",
    "    return result\n",
    "\n",
    "# Example 1\n",
    "columnTitle1 = \"A\"\n",
    "print(titleToNumber(columnTitle1))  # Output: 1\n",
    "\n",
    "# Example 2\n",
    "columnTitle2 = \"AB\"\n",
    "print(titleToNumber(columnTitle2))  # Output: 28\n",
    "# Example 3\n",
    "columnTitle2 = \"AC\"\n",
    "print(titleToNumber(columnTitle2))  # Output: 28\n",
    "\n",
    "# Example 3\n",
    "columnTitle3 = \"ZY\"\n",
    "print(titleToNumber(columnTitle3))  # Output: 701\n"
   ]
  },
  {
   "cell_type": "markdown",
   "id": "8c2cf355",
   "metadata": {},
   "source": [
    "# Valid Anagram\n"
   ]
  },
  {
   "cell_type": "markdown",
   "id": "b2873187",
   "metadata": {},
   "source": [
    "Given two strings s and t, return true if t is an anagram of s, and false otherwise.\n",
    "\n",
    "An Anagram is a word or phrase formed by rearranging the letters of a different word or phrase, typically using all the original letters exactly once.\n",
    "\n",
    " \n",
    "\n",
    "Example 1:\n",
    "\n",
    "Input: s = \"anagram\", t = \"nagaram\"\n",
    "Output: true\n",
    "\n",
    "Example 2:\n",
    "\n",
    "Input: s = \"rat\", t = \"car\"\n",
    "Output: false\n",
    "\n",
    " \n",
    "\n",
    "Constraints:\n",
    "\n",
    "    1 <= s.length, t.length <= 5 * 104\n",
    "    s and t consist of lowercase English letters.\n",
    "\n",
    " \n",
    "\n",
    "Follow up: What if the inputs contain Unicode characters? How would you adapt your solution to such a case?\n"
   ]
  },
  {
   "cell_type": "code",
   "execution_count": 6,
   "id": "c29e2e33",
   "metadata": {},
   "outputs": [
    {
     "name": "stdout",
     "output_type": "stream",
     "text": [
      "True\n",
      "False\n"
     ]
    }
   ],
   "source": [
    "def isAnagram(s, t):\n",
    "    if len(s) != len(t):\n",
    "        return False\n",
    "    \n",
    "    # Count the occurrences of each character in both strings\n",
    "    s_count = [0] * 26\n",
    "    t_count = [0] * 26\n",
    "\n",
    "    for char in s:\n",
    "        s_count[ord(char) - ord('a')] += 1\n",
    "\n",
    "    for char in t:\n",
    "        t_count[ord(char) - ord('a')] += 1\n",
    "\n",
    "    # Compare the character counts\n",
    "    return s_count == t_count\n",
    "\n",
    "# Example 1\n",
    "s1 = \"anagram\"\n",
    "t1 = \"nagaram\"\n",
    "print(isAnagram(s1, t1))  # Output: True\n",
    "\n",
    "# Example 2\n",
    "s2 = \"rat\"\n",
    "t2 = \"car\"\n",
    "print(isAnagram(s2, t2))  # Output: False\n"
   ]
  },
  {
   "cell_type": "code",
   "execution_count": null,
   "id": "3b0814c8",
   "metadata": {},
   "outputs": [],
   "source": []
  }
 ],
 "metadata": {
  "kernelspec": {
   "display_name": "Python 3 (ipykernel)",
   "language": "python",
   "name": "python3"
  },
  "language_info": {
   "codemirror_mode": {
    "name": "ipython",
    "version": 3
   },
   "file_extension": ".py",
   "mimetype": "text/x-python",
   "name": "python",
   "nbconvert_exporter": "python",
   "pygments_lexer": "ipython3",
   "version": "3.9.12"
  }
 },
 "nbformat": 4,
 "nbformat_minor": 5
}
